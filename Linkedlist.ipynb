{
 "cells": [
  {
   "cell_type": "markdown",
   "id": "0deac363",
   "metadata": {
    "hideCode": false,
    "hidePrompt": false
   },
   "source": [
    "# Listas enlazadas\n",
    "\n",
    "**Referencia** Goodrich et al. Chapter 7, p.255-277"
   ]
  },
  {
   "cell_type": "markdown",
   "id": "8ce478fd",
   "metadata": {
    "hideCode": false,
    "hidePrompt": false
   },
   "source": [
    "<img src=\"./nodo_7_1.jpg\"   width=\"600\" height=\"600\"  />\n",
    "\n",
    "\n",
    "<img src=\"./lista_7_2.jpg\"   width=\"600\" height=\"600\"  />\n"
   ]
  },
  {
   "cell_type": "markdown",
   "id": "2c3cd33a",
   "metadata": {
    "hideCode": false,
    "hidePrompt": false,
    "lang": "es"
   },
   "source": [
    "* Al igual que los arrays (o las listas de Python), las listas enlazadas representan secuencias lineales de elementos. Sin embargo, el usuario de una estructura enlazada **no puede** acceder con coste $O(1)$ a un elemento especificando su posición en el índice. Para acceder a un elemento debe comenzar en un extremo de la estructura y seguir los enlaces hasta alcanzar la posición (o elemento) deseada. Esta propiedad de las estructuras enlazadas tiene consecuencias importantes para varias operaciones de la lista\n",
    "\n",
    "\n",
    "* Recuerde que los elementos de un array deben almacenarse en memoria contigua. Esto significa que la **secuencia lógica de elementos** en el array está estrechamente unida a una **secuencia física** de celdas en la memoria. Por el contrario, una estructura enlazada desacopla la secuencia lógica de los elementos de la estructura de cualquier orden en la memoria. Es decir, la celda de un elemento dado en una estructura enlazada se puede encontrar en cualquier lugar de la memoria siempre que la computadora pueda seguir un enlace a su dirección o ubicación. Este tipo de esquema de representación de memoria se llama **memoria no contigua.**\n"
   ]
  },
  {
   "cell_type": "markdown",
   "id": "f11acbbc",
   "metadata": {
    "hideCode": false,
    "hidePrompt": false
   },
   "source": [
    "## Lista enlazada simple"
   ]
  },
  {
   "cell_type": "markdown",
   "id": "893d4050",
   "metadata": {
    "hideCode": false,
    "hidePrompt": false
   },
   "source": [
    "\n",
    "\n",
    "Analiza paso a paso el código anterior a partir del bucle que aññade nodos al final de la lista enlazada con ayuda  de [Pythontutor](https://pythontutor.com/visualize.html#code=class%20Node%3A%0A%20%20%20%20def%20__init__%28self,%20data%29%3A%0A%20%20%20%20%20%20%20%20self.data%20%3D%20data%0A%20%20%20%20%20%20%20%20self.next%20%3D%20None%0A%20%20%20%20%20%20%20%20%0Aclass%20LinkedList%3A%0A%20%20%20%20def%20__init__%28self%29%20%3A%0A%20%20%20%20%20%20%20%20self._head%20%3D%20None%0A%20%20%20%20%20%20%20%20self._size%20%3D%200%0A%20%20%20%20%0A%20%20%20%20def%20is_empty%20%28self%29%3A%0A%20%20%20%20%20%20%20%20return%20self._size%20%3D%3D%200%0A%20%20%20%20%0A%20%20%20%20def%20add_first%20%28self,%20data%29%3A%0A%20%20%20%20%20%20%20%20node%20%3D%20Node%28data%29%0A%20%20%20%20%20%20%20%20node.next%20%3D%20self._head%0A%20%20%20%20%20%20%20%20%0A%20%20%20%20%20%20%20%20self._head%20%3D%20node%0A%20%20%20%20%20%20%20%20self._size%20%2B%3D%201%0A%20%20%20%20%20%20%20%20%0A%20%20%20%20def%20add_last%28self,%20data%29%3A%0A%20%20%20%20%20%20%20%20node%20%3D%20Node%28data%29%0A%20%20%20%20%20%20%20%20aux%20%3D%20self._head%0A%20%20%20%20%20%20%20%20%0A%20%20%20%20%20%20%20%20if%20self.is_empty%28%29%3A%0A%20%20%20%20%20%20%20%20%20%20%20%20self._head%20%3D%20node%0A%20%20%20%20%20%20%20%20%20%20%20%20self._size%20%2B%3D%201%20%0A%20%20%20%20%20%20%20%20%20%20%20%20return%0A%20%20%20%20%20%20%20%20%0A%20%20%20%20%20%20%20%20%23%20traverse%20de%20list,%20until%20the%20last%20node%0A%20%20%20%20%20%20%20%20while%20aux.next%3A%0A%20%20%20%20%20%20%20%20%20%20%20%20aux%20%3D%20aux.next%0A%20%20%20%20%20%20%20%20%0A%20%20%20%20%20%20%20%20%23%20link%20the%20node%0A%20%20%20%20%20%20%20%20aux.next%20%3D%20node%0A%20%20%20%20%20%20%20%20self._size%20%2B%3D%201%20%0A%20%20%20%20%20%20%20%20return%0A%20%20%20%20%20%20%20%20%0A%20%20%20%20def%20del_first%20%28self%29%3A%0A%20%20%20%20%20%20%20%20'''Removing%20at%20the%20beginning'''%0A%20%20%20%20%20%20%20%20if%20self.is_empty%28%29%3A%0A%20%20%20%20%20%20%20%20%20%20%20%20return%20None%0A%20%20%20%20%20%20%20%20%0A%20%20%20%20%20%20%20%20%23%20At%20least%20one%20node%20%0A%20%20%20%20%20%20%20%20removed%20%3D%20self._head%0A%20%20%20%20%20%20%20%20self._head%20%3D%20self._head.next%0A%20%20%20%20%20%20%20%20self._size%20-%3D%201%0A%20%20%20%20%20%20%20%20%0A%20%20%20%20%20%20%20%20return%20removed.data%0A%20%20%20%20%0A%20%20%20%20def%20del_last%20%28self%29%3A%0A%20%20%20%20%20%20%20%20'''Removing%20at%20the%20end'''%0A%20%20%20%20%20%20%20%20%0A%20%20%20%20%20%20%20%20%23%20less%20than%20one%20node%0A%20%20%20%20%20%20%20%20if%20self._size%20%3C%3D%201%3A%0A%20%20%20%20%20%20%20%20%20%20%20%20return%20self.del_first%28%29%0A%20%20%20%20%20%20%20%20%0A%20%20%20%20%20%20%20%20%23%20More%20than%20one%20node%0A%20%20%20%20%20%20%20%20aux%20%3D%20self._head%0A%20%20%20%20%20%20%20%20while%20aux.next.next%20!%3D%20None%3A%20%20%20%20%20%20%23%20traverse%20the%20list%0A%20%20%20%20%20%20%20%20%20%20%20%20aux%20%3D%20aux.next%0A%20%20%20%20%20%20%20%20%0A%20%20%20%20%20%20%20%20data%20%3D%20aux.next.data%0A%20%20%20%20%20%20%20%20aux.next%20%3D%20None%0A%20%20%20%20%20%20%20%20self._size%20-%3D%201%0A%20%20%20%20%20%20%20%20return%20data%0A%20%20%20%20%0A%20%20%20%20def%20__getitem__%28self,%20key%29%3A%0A%20%20%20%20%20%20%20%20if%20%20not%20isinstance%28key,%20int%29%3A%0A%20%20%20%20%20%20%20%20%20%20%20%20raise%20TypeError%28f'list%20indices%20must%20be%20integers,%20not%20%7Btype%28key%29%7D%20'%29%0A%20%20%20%20%20%20%20%20elif%20key%20%3E%3D%20self._size%3A%0A%20%20%20%20%20%20%20%20%20%20%20%20raise%20IndexError%28%22list%20index%20out%20of%20range%22%29%0A%20%20%20%20%20%20%0A%20%20%20%20%20%20%20%20%23%20General%20case%0A%20%20%20%20%20%20%20%20j%20%3D%200%0A%20%20%20%20%20%20%20%20aux%20%3D%20self._head%0A%20%20%20%20%20%20%20%20while%20j%20%3C%20key%3A%20%20%20%20%20%20%20%20%20%23%20traverse%20the%20list%0A%20%20%20%20%20%20%20%20%20%20%20%20aux%20%3D%20aux.next%0A%20%20%20%20%20%20%20%20%20%20%20%20j%20%2B%3D%201%0A%20%20%20%20%20%20%20%20return%20aux.data%0A%0A%20%20%20%20def%20__len__%28self%29%3A%0A%20%20%20%20%20%20%20%20'''Return%20the%20number%20of%20elements%20in%20the%20list'''%0A%20%20%20%20%20%20%20%20return%20self._size%0A%20%20%20%20%20%20%20%20%0A%23%20-----%20Driver%20programm-------%20%20%0Al%20%3D%20LinkedList%20%28%29%0A%0A%23%20add%20nodes%20from%20the%20front%20%20%20%20%0Al.add_first%2810%29%0Al.add_first%20%2820%29%0A%20%20%20%20%0A%23%20add%20nodes%20from%20the%20end%0Afor%20i%20in%20range%282%29%3A%0A%20%20%20%20l.add_last%28i%29%0A%20%20%20%20%0A%23del%20first%20node%0Al.del_first%28%29%0A%0A%23del%20last%20node%3A%20%0Al.del_last%28%29&cumulative=false&curInstr=29&heapPrimitives=nevernest&mode=display&origin=opt-frontend.js&py=3&rawInputLstJSON=%5B%5D&textReferences=false)\n",
    "\n",
    "\n",
    "**Nota**. [Solts](https://wiki.python.org/moin/UsingSlots)"
   ]
  },
  {
   "cell_type": "markdown",
   "id": "3f162f9c",
   "metadata": {
    "hideCode": false,
    "hidePrompt": false
   },
   "source": [
    "```python\n",
    "def add_first():\n",
    "```\n",
    "    \n",
    "<img src=\"./lista_enlazada_insertar_head_7_4.jpg\"   width=\"600\" height=\"600\"  />\n",
    "\n",
    "\n",
    "```python\n",
    "def add_last():\n",
    "```\n",
    "\n",
    "<img src=\"./lista_enlazada_insertar_tail_7_5.jpg\"   width=\"600\" height=\"600\"  />\n"
   ]
  },
  {
   "cell_type": "markdown",
   "id": "c7c7ade3",
   "metadata": {
    "hideCode": false,
    "hidePrompt": false
   },
   "source": [
    "```python\n",
    "def delete_first():\n",
    "```\n",
    "    \n",
    "<img src=\"./lista_enlazada_delete_head_7_6.jpg\"   width=\"550\" height=\"550\"  />\n"
   ]
  },
  {
   "cell_type": "code",
   "execution_count": 8,
   "id": "a61c939d",
   "metadata": {
    "hideCode": false,
    "hidePrompt": false
   },
   "outputs": [
    {
     "name": "stdout",
     "output_type": "stream",
     "text": [
      "Print list: < 1 5 10 >\n",
      "After delete last: < 1 5 >\n",
      "After delete first: < 5 >\n",
      "First: 5 Last: 5\n"
     ]
    }
   ],
   "source": [
    "        \n",
    "class LinkedList:\n",
    "    \n",
    "    #--------------- nested _Node class \n",
    "    class _Node:\n",
    "        '''Lightweight, nonpublic class for storing a singly linked node.'''\n",
    "        \n",
    "        __slots__ = '_data', '_next'   # streamline memory usage\n",
    "        \n",
    "        def __init__(self, e):\n",
    "            self._data = e\n",
    "            self._next = None\n",
    "            \n",
    "    #------- LinkedList methods  ---------------------------------------\n",
    "    \n",
    "    def __init__(self) :\n",
    "        self._head = None\n",
    "        self._tail = None\n",
    "        self._size = 0\n",
    "    \n",
    "    def is_empty (self):\n",
    "        return self._size == 0\n",
    "    \n",
    "    def add_first (self, e):\n",
    "        newest = self._Node(e)     # create new node instance storing reference to element e\n",
    "        newest._next = self._head  # set new node’s next to reference the old head node\n",
    "        self._head = newest        # set variablehead to reference the new node\n",
    "        self._size += 1            # increment the node count\n",
    "        \n",
    "        # Speccial case: only one node in the list\n",
    "        if self._size == 1:\n",
    "            self._tail = self._head\n",
    "        \n",
    "    def add_last(self, e):\n",
    "        if self.is_empty():\n",
    "            self.add_first(e)\n",
    "            return\n",
    "        \n",
    "        newest = self._Node(e)  # create new node instance storing reference to element e\n",
    "        self._tail._next = newest  # set old last node's next to reference the newest\n",
    "        self._tail = newest        # set variable tail to reference the new node\n",
    "        self._size += 1            # increment the node count\n",
    "        \n",
    "    def delete_first(self):\n",
    "        if self.is_empty():\n",
    "            raise Exception('The list is empty')\n",
    "        \n",
    "        data = self._head._data            # capture tha data storaged at tha first node\n",
    "        self._head = self._head._next      # make head point to next node (or None)\n",
    "        self._size -= 1                    # decrement the node count\n",
    "    \n",
    "        # Special case: Empty list\n",
    "        if self.is_empty():\n",
    "            self._tail = None\n",
    "        \n",
    "        return data\n",
    "    \n",
    "    def delete_last (self):\n",
    "        '''cost O(n)'''\n",
    "        \n",
    "        # Less than one node in the list\n",
    "        if self._size <= 1:\n",
    "            return self.delete_first()\n",
    "        \n",
    "        # Traverse the list to stop BEFORE the last node\n",
    "        auxiliar = self._head\n",
    "        while auxiliar._next._next != None: \n",
    "            auxiliar = auxiliar._next\n",
    "        \n",
    "        data = auxiliar._next._data    # capture tha data storaged at tha first node\n",
    "        self._tail = auxiliar          # set the node referenced by auxiliar the new last\n",
    "        self._tail._next = None        # set the next of the last node \n",
    "        self._size -= 1                # decremet \n",
    "        \n",
    "        return data\n",
    "    \n",
    "    def first(self):\n",
    "        if self.is_empty():\n",
    "            raise Exception('The list is empty')\n",
    "        return self._head._data \n",
    "\n",
    "    def last(self):\n",
    "        if self.is_empty():\n",
    "            raise Exception('The list is empty')\n",
    "        return self._tail._data \n",
    "    \n",
    "    def __len__(self):\n",
    "        '''Return the number of elements in the list'''\n",
    "        return self._size\n",
    "        \n",
    "    def __iter__(self):\n",
    "        '''Permite que la lista enlazada sea un objeto iterable. Coste O(n)'''\n",
    "        auxiliar = self._head\n",
    "        while auxiliar != None:\n",
    "            yield auxiliar._data\n",
    "            auxiliar = auxiliar._next\n",
    "    \n",
    "    def __str__(self): \n",
    "        str_ = '< '\n",
    "        for elem in self:\n",
    "            str_ += str(elem) + ' '\n",
    "            \n",
    "        str_ += '>'\n",
    "        return str_\n",
    "    \n",
    "def main():\n",
    "    l = LinkedList()\n",
    "    \n",
    "    l.add_first(1)\n",
    "    l.add_last(5)\n",
    "    l.add_last(10)\n",
    "   \n",
    "    \n",
    "    print('Print list:', l)\n",
    "    \n",
    "    l.delete_last()\n",
    "    print('After delete last:', l)\n",
    "    l.delete_first()\n",
    "    print('After delete first:', l)\n",
    "    \n",
    "    print(f'First: {l.first()} Last: {l.last()}')\n",
    "\n",
    "if __name__ == '__main__':\n",
    "    main()        "
   ]
  },
  {
   "cell_type": "markdown",
   "id": "9992b2ad",
   "metadata": {
    "hideCode": false,
    "hidePrompt": false
   },
   "source": [
    "<div class=\"alert-warning\">\n",
    "   \n",
    "**Cuestiones:**   \n",
    "    \n",
    "* **(F)** En las listas de Python tenemos la posibilidad de crear listas anidadas. Por ejemplo, en la siguiente secuencia de comandos la lista *nested* está anidada a la lista *l*.\n",
    "\n",
    "```python\n",
    "l = list()          # Creamos una lista de Python vacía\n",
    "l.append(10)     \n",
    "nested = [1, 2, 3]  # Creamos otra lista\n",
    "l.append(nested)\n",
    "print(l)            # lista anidada: [10, [1, 2, 3]]\n",
    "```\n",
    "  **Sin llegar a ejecutar el siguiente código** ¿Crees que nuestra implementación de Listas Enlazadas permitiría anidar listas enlazadas? Justifica tu respuesta.\n",
    "```python\n",
    "l = LinkedList()\n",
    "l.add_first(10)\n",
    "print(l)\n",
    "\n",
    "nested = LinkedList()\n",
    "nested.add_first(1)\n",
    "nested.add_last(2)\n",
    "nested.add_last(3)\n",
    "print(nested)\n",
    "\n",
    "l.add_last(nested)\n",
    "print(l)\n",
    "```\n"
   ]
  },
  {
   "cell_type": "markdown",
   "id": "5e7f98bd",
   "metadata": {
    "hideCode": false,
    "hidePrompt": false
   },
   "source": [
    "### Implementing a  satck with a linked list"
   ]
  },
  {
   "cell_type": "code",
   "execution_count": 9,
   "id": "5af1b606",
   "metadata": {
    "hideCode": false,
    "hidePrompt": false
   },
   "outputs": [
    {
     "name": "stdout",
     "output_type": "stream",
     "text": [
      "< don_pepito hola >\n",
      "don_pepito\n",
      "< hola >\n"
     ]
    }
   ],
   "source": [
    "class Stack:\n",
    "    '''LIFO Stack implementation using a LinkedList as underlying storage.'''\n",
    "    \n",
    "    def __init__(self):\n",
    "        self._data = LinkedList()\n",
    "        \n",
    "    def push(self, data):     \n",
    "        self._data.add_first(data)\n",
    "    \n",
    "    def pop(self):\n",
    "        if self.is_empty():\n",
    "            raise Exception('Stack is empty')\n",
    "        return self._data.delete_first()\n",
    "    \n",
    "    def top(self):\n",
    "        return self._data.first()\n",
    "    \n",
    "    def is_empty(self):\n",
    "        return self._data.is_empty()\n",
    "    \n",
    "    def __len__(self):\n",
    "        return len(self._data)\n",
    "    \n",
    "    def __iter__(self):\n",
    "        return iter(self._data)\n",
    "    \n",
    "    def __str__(self):\n",
    "        return str(self._data)\n",
    "    \n",
    "if __name__ == '__main__':\n",
    "    s = Stack()\n",
    "    s.push('hola')\n",
    "    s.push('don_pepito')\n",
    "    print(s)\n",
    "    \n",
    "    print(s.pop())\n",
    "    print(s)"
   ]
  },
  {
   "cell_type": "markdown",
   "id": "9d871b8c",
   "metadata": {
    "hideCode": false,
    "hidePrompt": false
   },
   "source": [
    "## Lista enlazada circular"
   ]
  },
  {
   "cell_type": "markdown",
   "id": "44eb1de9",
   "metadata": {
    "hideCode": false,
    "hidePrompt": false
   },
   "source": [
    "<div class=\"alert-info\">\n",
    "\n",
    "### Motivación\n",
    "\n",
    "La **planificación Round-Robin** es un método clásico para ejecutar diferentes *procesos* de manera **concurrente** distribuyendo equitativamente entre los procesos los recursos disponibles. Supongamos que tenemos diferentes procesos que necesitan acceder a un único recurso. En la planificación Round-Robin cada proceso se ejecuta durante un breve período de tiempo, y, después, se suspende para dar oportunidad a que se ejecute otro proceso y así sucesivamente hasta que se finalice la ejecución de todos los procesos. \n",
    "\n",
    "Una forma habitual de implementar el algoritmo de planificación *Round-Robin* consiste en *encolar* todos los procesos. Se extrae un proceso de la cola y  se ejecuta durante un breve periodo de tiempo. Transcurrido dicho periodo de tiempo se suspende su ejecución y se vuelve a encolar. A continuación se extrae un nuevo proceso de la cola y se repite el procedimiento. Si un proceso finalizase su ejecución **no** volvería a encolarse. El procedimiento termina cuando la cola de procesos se vacía.\n",
    "\n",
    "Un observador que observarse el estado de la cola **antes** de desencolarse un proceso y **después** de encolarse, afirmaría que la secuencia de las dos operaciones es equivalente a una **rotación** de los procesos de la cola.\n",
    "Por ejemplo, si el estado de la cola en un momento dado es $<1, 2, 3, 4>$, tras desencolar y volver a encolar el proceso que ocupa el *front* de la cola el estado de esta sería $<2, 3, 4, 1>$ equivalente, por tanto, a una rotación de los elementos de la cola.\n",
    "\n",
    "Aunque como hemos visto que el coste de las primitivas enqueue() y dequeue() es $O(1)$ , cuando se utiliza como estructura de datos una lista enlazada, el **_tiempo real_** consumido por las dos sentencias `dequeue(enqueue())` se considera elevado en la programación concurrente aun con el uso de *slots*. La pregunta es ¿Podemos encontrar una estructura de datos que realice una **rotación** de los elementos de la cola de manera mas eficiente? Sí. La **Lista Circular** ofrece una implementación de la rotación tremendamente eficaz."
   ]
  },
  {
   "cell_type": "markdown",
   "id": "7a843373",
   "metadata": {
    "hideCode": false,
    "hidePrompt": false
   },
   "source": [
    "<img src=\"./robin_7_9.jpg\"   width=\"600\" height=\"600\"  />\n"
   ]
  },
  {
   "cell_type": "markdown",
   "id": "3c0ea6fe",
   "metadata": {
    "hideCode": false,
    "hidePrompt": false
   },
   "source": [
    "### Implementación"
   ]
  },
  {
   "cell_type": "markdown",
   "id": "41fe2627",
   "metadata": {
    "hideCode": false,
    "hidePrompt": false
   },
   "source": [
    "<img src=\"./circular_7_9.jpg\"   width=\"550\" height=\"550\"  />\n",
    "\n",
    "**Nota importante:** En la imagen anterior de la lista enlazada circular figura también un enlace 'header' al comienzo de la lista. Sin embargo este enlace no aporta nada. El coste asintótico de las operaciones en la lista sigue siendo el mismo con él o sin él. En nuestra implementación **no** lo consideramos. "
   ]
  },
  {
   "cell_type": "code",
   "execution_count": 10,
   "id": "034e5d8a",
   "metadata": {
    "hideCode": false,
    "hidePrompt": false
   },
   "outputs": [
    {
     "name": "stdout",
     "output_type": "stream",
     "text": [
      "< >\n",
      "< 5 >\n",
      "< 2 5 10 >\n",
      "< 5 10 2 >\n",
      "Size: 0 List: < >\n"
     ]
    }
   ],
   "source": [
    "class CircularList:\n",
    "     #--------------- nested _Node class \n",
    "    class _Node:\n",
    "        '''Lightweight, nonpublic class for storing a singly linked node.'''\n",
    "        \n",
    "        __slots__ = '_data', '_next'   # streamline memory usage\n",
    "        \n",
    "        def __init__(self, e):\n",
    "            self._data = e\n",
    "            self._next = None\n",
    "            \n",
    "    #------- LinkedList methods  ---------------------------------------\n",
    "    \n",
    "    def __init__(self) :\n",
    "        self._tail = None\n",
    "        self._size = 0\n",
    "    \n",
    "    def add_first(self, e):\n",
    "        newest = self._Node(e)\n",
    "        \n",
    "        if self.is_empty():\n",
    "            newest._next = newest\n",
    "            self._tail = newest\n",
    "            self._size += 1\n",
    "            return\n",
    "        \n",
    "        newest._next = self._tail._next\n",
    "        self._tail._next = newest\n",
    "        self._size += 1\n",
    "        \n",
    "    def add_last(self, e):\n",
    "        if self.is_empty():\n",
    "            self.add_first(e)\n",
    "            return\n",
    "        \n",
    "        newest = self._Node(e)            # newest will be the new tail node\n",
    "        newest._next = self._tail._next\n",
    "        self._tail._next = newest\n",
    "        self._tail = newest\n",
    "        self._size += 1\n",
    "                \n",
    "    def delete_first(self):\n",
    "        if self.is_empty():\n",
    "            raise Exception(\"The circular Linked list is empty\")\n",
    "        \n",
    "        elif len(self) == 1:        # removing only one node\n",
    "            data = self._tail._data # queue becomes empty\n",
    "            self._tail = None\n",
    "            self._size -= 1\n",
    "            return data\n",
    "        \n",
    "        oldfirst = self._tail._next       # first node to be deleted\n",
    "        data = oldfirst._data              # dat storaged in the old first node\n",
    "        self._tail._next = oldfirst._next  # bypass the old first node\n",
    "        self._size -= 1\n",
    "        return data\n",
    "    \n",
    "    def first(self):\n",
    "        if self.is_empty():\n",
    "            raise Empty(\"The circular Linked list is empty\")\n",
    "        return self._tail._next\n",
    "\n",
    "    def last(self):\n",
    "        if self.is_empty():\n",
    "            raise Empty(\"The circular Linked list is empty\")\n",
    "        return self._tail\n",
    "    \n",
    "    def rotate(self):\n",
    "        self._tail = self._tail._next\n",
    "        \n",
    "    def is_empty(self):\n",
    "        return self._size == 0\n",
    "    \n",
    "    def __len__(self):\n",
    "        return self._size\n",
    "    \n",
    "    def __iter__(self):\n",
    "        if not self.is_empty():\n",
    "            auxiliar = self._tail._next\n",
    "            while auxiliar != self._tail:\n",
    "                yield auxiliar._data\n",
    "                auxiliar = auxiliar._next\n",
    "            yield self._tail._data         # last element\n",
    "    \n",
    "    def __str__(self): \n",
    "        str_ = '< '\n",
    "        for elem in self:\n",
    "            str_ += str(elem) + ' '\n",
    "            \n",
    "        str_ += '>'\n",
    "        return str_\n",
    "\n",
    "#----- Drive code\n",
    "\n",
    "if __name__ == '__main__':\n",
    "    l = CircularList()\n",
    "    print(l)\n",
    "    l.add_first(5)\n",
    "    print(l)\n",
    "    l.add_first(2)\n",
    "    l.add_last(10)\n",
    "    print(l)\n",
    "    l.rotate()\n",
    "    print(l)\n",
    "    l.delete_first()\n",
    "    l.delete_first()\n",
    "    l.delete_first()\n",
    "    print('Size:', len(l), 'List:', l)\n",
    "\n"
   ]
  },
  {
   "cell_type": "markdown",
   "id": "8ba2db1a",
   "metadata": {
    "hideCode": false,
    "hidePrompt": false
   },
   "source": [
    "<div class=\"alert-warning\">\n",
    "   \n",
    "**Cuestiones:**   \n",
    "    \n",
    "* **(F)** En la lista enlazada circular se ha enlazado con la variable tail el último nodo de la lista. ¿Sería igual o incluso mas eficiente enlazar el primer nodo en vez del último? Justifica tu respuesta.\n",
    "\n",
    "* **(F)** ¿Es apropiado implementar una Coal utilizando como estructura de datos lista enlazada circular? Justifica la respuesta.  ¿Y un Deque?\n"
   ]
  },
  {
   "cell_type": "markdown",
   "id": "d097fa51",
   "metadata": {
    "hideCode": false,
    "hidePrompt": false
   },
   "source": [
    "### Implementing a  Queue with a _Circular Linked List_"
   ]
  },
  {
   "cell_type": "markdown",
   "id": "79a86cf1",
   "metadata": {
    "hideCode": false,
    "hidePrompt": false
   },
   "source": [
    "* Implementaremos una Cola utilizando como **estructura de datos** una Lista enlazada circular. Utilizaremos el **patrón de diseño** *adpatador*: los métodos de la cola simplemente invocan a los métodos de la Lista.\n",
    "* El **coste asintótico** de todas las operaciones de la cola, excepto obviamente el iterador, será $O(1)$.\n",
    "* La única ventaja que se me ocurre de utilizar una lista enlazada circular sobre una lista enlazada para implementar una cola radica en el tiempo de ejecución (**real**, no asíntótico) del método **_rotate()_**. Recuerda que cuando se emplea una lista enlazada como estructura de datos,  el método rotate obliga a destruir el primer nodo de la lista, volverlo a crear e insertarlo al final de la lista `enqueue(dequeue())`. En la lista enlazada circular para realizar esta operación tan solo tenemos que reasignar `tail`. "
   ]
  },
  {
   "cell_type": "code",
   "execution_count": 11,
   "id": "e42a9e2e",
   "metadata": {
    "hideCode": false,
    "hidePrompt": false
   },
   "outputs": [
    {
     "name": "stdout",
     "output_type": "stream",
     "text": [
      "< >\n",
      "< proceso_1 proceso_2 proceso_3 >\n",
      "Despues de rotar: < proceso_2 proceso_3 proceso_1 >\n",
      "Elemento extraido:proceso_2. Estado de la cola: < proceso_3 proceso_1 >\n"
     ]
    }
   ],
   "source": [
    "class Queue:\n",
    "    def __init__(self):\n",
    "        self._data = CircularList()\n",
    "    \n",
    "    def dequeue(self):\n",
    "        if self.is_empty():\n",
    "            raise Exception(\"Queue is empty\")\n",
    "        return self._data.delete_first()\n",
    "    \n",
    "    def enqueue(self, data):\n",
    "        return self._data.add_last(data)\n",
    "    \n",
    "    def first(self):\n",
    "        return self._data.first()\n",
    "    \n",
    "    def last(self):\n",
    "         return self._data.last()\n",
    "        \n",
    "    def rotate(self):\n",
    "        return self._data.rotate()\n",
    "    \n",
    "    def is_empty(self):\n",
    "         return self._data.is_empty()\n",
    "        \n",
    "    def __len__():\n",
    "        return len(self._data)\n",
    "    \n",
    "    def __iter__(self):\n",
    "        '''Coste O(n)'''\n",
    "        return iter(self._data)\n",
    "    \n",
    "    def __str__(self):\n",
    "        return str(self._data)\n",
    "    \n",
    "# ------ Driver code\n",
    "\n",
    "if __name__ == '__main__':\n",
    "    c = Queue()\n",
    "    print(c)\n",
    "    c.enqueue('proceso_1')\n",
    "    c.enqueue('proceso_2')\n",
    "    c.enqueue('proceso_3')\n",
    "    print(c)\n",
    "    c.rotate()\n",
    "    print('Despues de rotar:', c)\n",
    "    data = c.dequeue()\n",
    "    print(f'Elemento extraido:{data}. Estado de la cola: {c}' )"
   ]
  },
  {
   "cell_type": "markdown",
   "id": "0dba6ed3",
   "metadata": {
    "hideCode": false,
    "hidePrompt": false
   },
   "source": [
    "## Lista doblemente enlazada"
   ]
  },
  {
   "cell_type": "markdown",
   "id": "961475ae",
   "metadata": {
    "hideCode": false,
    "hidePrompt": false
   },
   "source": [
    "### Introducción"
   ]
  },
  {
   "cell_type": "markdown",
   "id": "bed34277",
   "metadata": {
    "hideCode": false,
    "hidePrompt": false,
    "lang": "es"
   },
   "source": [
    "En una lista enlazada cada nodo mantiene una referencia al nodo inmediatamente posterior. Hemos visto la utilidad de tal representación a la hora de gestionar una secuencia de elementos. Sin embargo, existen limitaciones que se derivan de la asimetría de una lista con un solo enlace. Al comienzo del capítulo, enfatizamos que podemos insertar eficientemente un nodo en cualquiera de los extremos de una lista enlazada de forma simple, y podemos eliminar un nodo en la cabecera de una lista, todas estas operaciones podemos realizarlas con coste $O(1)$, pero **no podemos eliminar de manera eficiente el último nodo de una lista**.\n",
    "Para eliminarlo debemos recorrer la lista  hasta llegar al penúltimmo nodo. De manera más general, no podemos eliminar de manera eficiente un nodo arbitrario de una posición interior de la lista si solo se proporciona una referencia a ese nodo, porque no podemos determinar el nodo que precede inmediatamente al nodo que se eliminará (y recordad que debemos actualizar el campo `_next` del nodo precedente al que se eliminará).\n",
    "Para proporcionar una mayor simetría, vamos a definir **una lista enlazada en la que cada nodo mantiene una referencia explícita al nodo anterior y otra referencia al nodo posterior**. Esta estructura se conoce como **lista doblemente enlazada**. \n",
    "\n",
    "Estas listas permiten una mayor variedad de operaciones de actualización en tiempo $O(1)$, incluidas inserciones y eliminaciones en posiciones arbitrarias dentro de la lista. Seguimos usando el término `_next` para la referencia al nodo que sigue a otro, e introducimos el término `_prev` para la referencia al nodo que le precede.\n",
    "\n",
    "\n",
    "Una lista doblemente enlazad se puede implementar tanto con **centinelas** como sin centinelas. Nosotros vamos a utilizar centinelas. "
   ]
  },
  {
   "cell_type": "markdown",
   "id": "330f36b5",
   "metadata": {
    "hideCode": false,
    "hidePrompt": false
   },
   "source": [
    "**Uso de centinelas**"
   ]
  },
  {
   "cell_type": "markdown",
   "id": "cec87c65",
   "metadata": {
    "hideCode": false,
    "hidePrompt": false,
    "lang": "es"
   },
   "source": [
    "* Para evitar los casos especiales cuando se opera cerca de los extremos de una lista con doblemente enlazada, es útil agregar nodos *especiales* en ambos extremos de la lista: un nodo anterior al principio de la lista y un nodo final al final de la lista. Estos nodos *ficticios* se conocen como **centinelas** (o guardias) y **no almacenan** ningún elemento de la secuencia de objetos.\n",
    "\n",
    "\n",
    "* Al centinela del principio de la lista lo llamamos `header` y al del final `tailer`. El campo dat de ambos nodos siempre estará a `None`. El campo `_next` del header está enlazado al primer nodo de la lista mientras que el campo  `_prev` del `tailer`está enlazado al último nodo.    "
   ]
  },
  {
   "cell_type": "markdown",
   "id": "ae8e5c1d",
   "metadata": {
    "hideCode": false,
    "hidePrompt": false
   },
   "source": [
    "<img src=\"./doble_7_10.jpg\"   width=\"600\" height=\"600\"  />\n"
   ]
  },
  {
   "cell_type": "markdown",
   "id": "0b375918",
   "metadata": {
    "hideCode": false,
    "hidePrompt": false,
    "lang": "es"
   },
   "source": [
    "**Ventajas del uso de centinelas**\n",
    "\n",
    "Aunque podríamos implementar una lista doblemente enlazada sin nodos centinela (como hicimos con nuestra lista enlazada simple), el espacio adicional dedicado a estos centinelas simplifica enormemente la lógica de nuestras operaciones. En particular, los nodos de encabezado y final nunca cambian, solo cambian los nodos entre ellos. Además, podemos tratar todas las inserciones de manera unificada, porque siempre se colocará un nuevo nodo entre un par de nodos existentes. De manera similar, se garantiza que cada elemento que se elimine se almacenará en un nodo que tiene vecinos en cada lado. \n",
    "Por ejemplo. en el código de las listas enlazadas la operación de insertar al principio de la lista requería tratar con casos especiales para manejar el caso especial de insertar en una cola vacía. En el caso general, el nuevo nodo se enlazaba antes del primer nodo de la lista existente. Pero cuando se agrega un nodo a una lista vacía, *no existe la lista*; en su lugar, es necesario reasignar el valor de self.head para referenciar al nuevo nodo. El uso de un nodo centinela en esa implementación eliminaría el caso especial, ya que siempre habría un nodo existente (el nodo head) antes de un nuevo nodo"
   ]
  },
  {
   "cell_type": "markdown",
   "id": "ab499715",
   "metadata": {
    "hideCode": false,
    "hidePrompt": false
   },
   "source": [
    "### Implementación lista doblemente enlazada"
   ]
  },
  {
   "cell_type": "markdown",
   "id": "96e00c35",
   "metadata": {
    "hideCode": false,
    "hidePrompt": false
   },
   "source": [
    "```python\n",
    "def _insert_between(self, data, predecessor, sucessor):\n",
    "```\n",
    "\n",
    "<img src=\"./doble_insertar_7_11.jpg\"   width=\"600\" height=\"600\"  />\n",
    "\n",
    "\n",
    "```python\n",
    "def _delete_node():\n",
    "```\n",
    "\n",
    "<img src=\"./doble_borrar_7_13.jpg\"   width=\"600\" height=\"600\"  />\n"
   ]
  },
  {
   "cell_type": "code",
   "execution_count": 12,
   "id": "0e7f60cd",
   "metadata": {
    "hideCode": false,
    "hidePrompt": false
   },
   "outputs": [
    {
     "name": "stdout",
     "output_type": "stream",
     "text": [
      "< >\n",
      "< 5 10 >\n",
      "< 5 >\n"
     ]
    }
   ],
   "source": [
    "class _DoubleLinked:\n",
    "    ''' A base class providing a doubly linked list representation'''\n",
    "\n",
    "    class _Node:\n",
    "        ''' Lightweight, nonpublic class for storing a doubly linked node '''\n",
    "        \n",
    "        __slots__ = ('_data', '_prev', '_next')\n",
    "        \n",
    "        def __init__(self, data, prev_, next_):\n",
    "            self._data = data\n",
    "            self._prev = prev_\n",
    "            self._next = next_\n",
    "            \n",
    "    def __init__(self):\n",
    "        self._header = self._Node(None, None, None)\n",
    "        self._tailer = self._Node(None, None, None)\n",
    "        \n",
    "        self._header._next = self._tailer\n",
    "        self._tailer._prev = self._header\n",
    "        self._size = 0\n",
    "    \n",
    "    def _insert_between (self, data, predecessor, sucessor):\n",
    "        newest = self._Node(data, predecessor, sucessor)\n",
    "        \n",
    "        predecessor._next = newest\n",
    "        sucessor._prev = newest\n",
    "        self._size += 1\n",
    "        return newest\n",
    "    \n",
    "    def _delete_node(self, node):\n",
    "        data = node._data\n",
    "        predecessor = node._prev\n",
    "        sucessor = node._next\n",
    "        \n",
    "        predecessor._next = sucessor\n",
    "        sucessor._prev = predecessor\n",
    "        self._size -= 1\n",
    "        \n",
    "        node._next = node._prev = node._data = None  # garbage collect\n",
    "        return data\n",
    "    \n",
    "    def is_empty(self):\n",
    "        return len(self) == 0\n",
    "            \n",
    "    def __len__(self):\n",
    "        return self._size\n",
    "    \n",
    "    def __iter__(self):\n",
    "        '''O(n)'''\n",
    "        aux = self._header._next\n",
    "        while aux != self._tailer:\n",
    "            yield aux\n",
    "            aux = aux._next \n",
    "    \n",
    "    def __str__(self):\n",
    "        str_ ='< '\n",
    "        for elem in self:\n",
    "            str_ += str(elem._data) + ' '\n",
    "        str_ += '>'\n",
    "        return str_\n",
    "    \n",
    "\n",
    "if __name__ == '__main__':\n",
    "    # No debes hacerlo. Solo para probar\n",
    "    d = _DoubleLinked()\n",
    "    print(d)\n",
    "    n0 = d._insert_between (5, d._header, d._tailer)\n",
    "    n1 =  d._insert_between(10, n0, d._tailer)\n",
    "    print(d)\n",
    "    d._delete_node(n1)\n",
    "    print(d)"
   ]
  },
  {
   "cell_type": "markdown",
   "id": "25ebc5e3",
   "metadata": {
    "hideCode": false,
    "hidePrompt": false
   },
   "source": [
    "### Implementing a Deque with a Doubly Linked List"
   ]
  },
  {
   "cell_type": "markdown",
   "id": "b77ecc23",
   "metadata": {
    "hideCode": false,
    "hidePrompt": false
   },
   "source": [
    "\n",
    "```python\n",
    "def insert_first():\n",
    "```\n",
    "\n",
    "<img src=\"./doble_insertar_principio_7_12.jpg\"   width=\"600\" height=\"600\"  />\n"
   ]
  },
  {
   "cell_type": "code",
   "execution_count": 13,
   "id": "d70db431",
   "metadata": {
    "hideCode": false,
    "hidePrompt": false
   },
   "outputs": [
    {
     "name": "stdout",
     "output_type": "stream",
     "text": [
      "< 5 10 >\n",
      "5 10\n",
      "10\n",
      "< 5 >\n",
      "5\n",
      "< >\n"
     ]
    }
   ],
   "source": [
    "\n",
    "class LinkedDeque(_DoubleLinked):\n",
    "    \n",
    "    def first(self):\n",
    "        if self.is_empty():\n",
    "            raise Exception('Empty deque')\n",
    "        return self._header._next._data\n",
    "    \n",
    "    def last(self):\n",
    "        if self.is_empty():\n",
    "            raise Exception('Empty deque')\n",
    "        return self._tailer._prev._data\n",
    "    \n",
    "    def insert_first(self, data):\n",
    "        self._insert_between(data, self._header, self._header._next)  # el nodo se quiere insertar\n",
    "                                                                      # despues del header (predecesor)\n",
    "                                                                      # y antes del primer nodo header._next (sucesor)\n",
    "    def insert_last(self, data):\n",
    "        self._insert_between(data, self._tailer._prev, self._tailer)\n",
    "        \n",
    "    def delete_first(self):\n",
    "        if self.is_empty():\n",
    "            raise Exception('Empty deque')\n",
    "        node = self._header._next      # Enlace al nodo que se desea eliminar\n",
    "        data = self._delete_node(node)\n",
    "        return data\n",
    "    \n",
    "    def delete_last(self):\n",
    "        if self.is_empty():\n",
    "            raise Exception('Empty deque')\n",
    "        node = self._tailer._prev\n",
    "        data = self._delete_node(node)\n",
    "        return data\n",
    "\n",
    "if __name__ == '__main__':\n",
    "    d = LinkedDeque()\n",
    "    d.insert_first(5)\n",
    "    d.insert_last(10)\n",
    "    print(d)\n",
    "    print(d.first(), d.last())\n",
    "    print(d.delete_last())\n",
    "    print(d)\n",
    "    print(d.delete_last())\n",
    "    print(d)"
   ]
  },
  {
   "cell_type": "markdown",
   "id": "8386c463",
   "metadata": {
    "hideCode": false,
    "hidePrompt": false
   },
   "source": [
    "# Listas enlazadas frente a arrays como estructuras de datos\n",
    "\n",
    "**Referencia** Goodrich et al. Chapter 7, p.292\n",
    "\n",
    "En este capítulo hemos introducido las listas enlazadas y sus derivadas, como estructuras de datos alternativas a los arrays. Hemos visto que con ellas podemos \n",
    "implementar los TAD Pilas, Colas y Deques con el mismo coste asintótico que con los array. Pero ¿Cúal de las dos estructuras de datos nos convendría utilizar?"
   ]
  },
  {
   "cell_type": "markdown",
   "id": "4ee7ee0e",
   "metadata": {
    "hideCode": false,
    "hidePrompt": false,
    "lang": "es"
   },
   "source": [
    "**Ventajas de los arrays:**\n",
    "\n",
    "1. Los arrays proporcionan acceso con tiempo $O(1)$ a cualquier elemento del array por medio de un índice entero. La capacidad de acceder al $k$-ésimo elemento para cualquier $k$ con coste $O(1)$ es una ventaja distintiva de los arrays. Por el contrario, acceder el elemento $k-$ésimo en una lista enlazada requiere un coste $O(k)$ para recorrer la lista desde el principio o, en todo caso, $O(n−k)$ en una la lista doblemente enlazada que se recorriese desde el final.\n",
    "\n",
    "\n",
    "2. Las operaciones con límites asintóticos equivalentes normalmente se ejecutan un factor constante más eficiente cuando la estructura de datos es un array que cuando la estructura de datos es una lista enlazada. \n",
    "\n",
    " Por ejemplo, consideremos la operación de *encolar* un elemento en una cola. Tanto si implementamos la cola con un array como con una lista enlazada el **coste asintótico** es $O(1)$. Sin embargo el **coste real** diferirá en ambas.  Cuando la cola se implementa con un array, el coste *real* de encolar un elemento  será la suma del tiempo de tres operaciones: el cálculo aritmético del índice de la posición del array donde insertar el elemento (recuerda que es array circular), el incremento del valor de un entero (donde almacenamos el tamaño de la cola) y el almacenamiento de la referencia al elemento en el índice correspondiente. (No consideramos el problema de redimensionar el tamaño del array en el caso de que el array sea dinámico). Sin embargo, cuando se utiliza una lista enlazada como estructura de datos, se requiere la creación de la instancia de nodo, realizar el enlace adecuado de los nodos e incrementar el valor de un número entero (el tamaño de la cola). **El coste real de las operaciones de CPU que hay que realizar será mayor en la lista, especialmente debido a la creación de instancias del nuevo nodo.**\n",
    "\n",
    "\n",
    "3. Las representaciones basadas en arrays *habitualmente* requieren menos memoria que las estructuras enlazadas. Esta ventaja puede parecer **contraintutiva**, especialmente dado que la longitud de un array dinámico puede ser mucho mayor que la cantidad de elementos que, en un momento determinado, almacena. Sin embargo, **tanto los arrays como las listas enlazadas son estructuras referenciales,** por lo que la memoria primaria para almacenar los objetos reales, los elementos, es la misma en ambas. Lo que las difiere es la cantidad de memoria auxiliar que necesitan. \n",
    "\n",
    " Si el contenedor de elementos es un array, el **peor caso** se obtendría en un array dinámico cuando se acabase de redimensionar. Supongamos que cada vez que se redimensiona el array su capacidad se multiplica por un factor 2. \n",
    " Cuando se acabase de redimensionar, el array dispondría de memoria *vacía (auxiliar)* para referenciar $2 \\cdot n$ objetos adicionales (i.e, está desperdiciando  $2 \\cdot n$ celdas de memoria). En el caso de las listas enlazadas, la memoria debe dedicarse no sólo a almacenar una referencia a cada objeto contenido sino también a las referencias explícitas que enlazan los nodos. Por lo tanto, una lista enlazada de longitud $n$ almacena $2 \\cdot n $ referencias, una referencia al elemento y otra referencia al siguiente nodo. Con una lista doblemente enlazada la situación es aún peor: son necesarias $3 \\cdot n$ referencias. "
   ]
  },
  {
   "cell_type": "markdown",
   "id": "6f0f05ce",
   "metadata": {
    "hideCode": false,
    "hidePrompt": false,
    "lang": "es"
   },
   "source": [
    "**Ventajas de las listas enlazadas:**\n",
    "\n",
    "* En las estructuras de datos basadas en listas, el coste temporal de las operaciones siempre se refiere al **peor de los casos**. Sin embargo cuando se utilizan estructuras de datos basadas en array, el coste temporal de de las operaciones son **costes amortizados.** \n",
    "\n",
    " Cuando se realizan muchas operaciones individuales, y solo estamos interesados en el tiempo total del conjunto de las operaciones realizadas (por ejemplo el coste de insertar o extraer $n$ elementos en una cola), el coste amortizado es una medida tan buena como la suma total del coste de las $n$ operaciones en su peor caso. Al igual que esta, el coste amortizado también nos proporciona una cota superior al total del tiempo consumido por las $n$ operaciones . Sin embargo, si las operaciones han de realizarse en un entorno de tiempo real (por ejemplo, un sistema operativo, un servidor web, un sistema de control de tráfico aéreo), una demora prolongada causada en **una sola operación** (amortizada) puede tener un efecto adverso en el rendimiento del sistema. \n",
    "\n",
    "\n",
    "* Las estructuras basadas en enlaces admiten inserciones y eliminaciones con coste $O(1)$ en posiciones arbitrarias **siempre y cuando tengamos la referencia posicional del lugar de la lista donde queremos realizar la insercción o la extracción** (por ejemplo, si conocemos la referencia en memoria del nodo siguiente y del nodo previo en una lista doblemente enlazada). Esta quizás sea la ventaja más significativa de la lista enlazada. Esto contrasta fuertemente con una estructura de datos basada en arrays. Ignorando el problema de redimensionar el tamaño del array, la inserción o eliminación de un elemento del final de una secuencia implementada con arrays se puede realizar en tiempo constante $O(1)$. Sin embargo, las inserciones y eliminaciones en otras posiciones  son costosas. Por ejemplo, con la clase de lista de Python que como vimos en su momento está implementada con arrays, una llamada a insertar en la $k$-esima posición tiene un coste  $O(n−k+1)$ debido a que se necesita *mover* los elementos posteriores a la posición $k$-ésima.\n",
    "\n",
    " Como una aplicación de ejemplo, considere un editor de texto que mantiene un documento como una secuencia de caracteres. Aunque los usuarios suelen agregar caracteres al final del documento, también es posible usar el cursor para insertar o eliminar uno o más caracteres en una posición arbitraria dentro del documento. Si la secuencia de caracteres se almacenó en una secuencia basada en arrays (como una lista de Python), cada una de estas operaciones de edición puede requerir que se desplacen linealmente muchos caracteres, lo que implica un rendimiento $O(n)$ para cada operación de edición. Con una representación de lista enlazada, se puede realizar una operación de edición arbitraria (inserción o eliminación de un carácter en el cursor) en el peor de los casos $O(1)$, **siempre y cuando dispusiésemos dé una posición que representase la ubicación del cursor en un nodo de la lista**. Este es un ejemplo de lo que habitualmente se conoce como **lista posicional.** "
   ]
  },
  {
   "cell_type": "markdown",
   "id": "68a7b442",
   "metadata": {
    "hideCode": false,
    "hidePrompt": false
   },
   "source": [
    "<div class=\"alert-warning\">\n",
    "\n",
    "**Cuestiones**\n",
    "\n",
    "* **(F)** ¿Cúal es el coste de insertar un elemento en las posiciones primera, última y arbitraria en la siguientes estructuras de datos?. Justifica las respuestas\n",
    " * Un array \n",
    " * Un lista de Python\n",
    " * Una lista enlazada\n",
    " * Una lista enlazada circular\n",
    " * Una lista doblemente enlazada\n",
    " \n",
    "* **(F)** ¿Qué ventajas tendría utilizar una lista enlazda circular sobre una lista simple a la hora de implementar una cola?\n",
    "\n",
    "* **(F)** ¿Qué ventajas tiene el uso de *centinelas* en las listas doblemente enlazadas? Muéstralo con un ejemplo práctico.\n",
    "\n",
    "* **(F)** Valora las ventajas/inconvenientes de utilizar como estructura de datos para implementar colecciones los arrays y las listas enlazadas"
   ]
  },
  {
   "cell_type": "markdown",
   "id": "cb2275b2",
   "metadata": {
    "hideCode": false,
    "hidePrompt": false
   },
   "source": [
    "# Algoritmos"
   ]
  },
  {
   "cell_type": "markdown",
   "id": "140ebf28",
   "metadata": {},
   "source": [
    "## Listas enlazadas"
   ]
  },
  {
   "cell_type": "markdown",
   "id": "72c83094",
   "metadata": {
    "hideCode": false,
    "hidePrompt": false
   },
   "source": [
    "### Impresión en orden inverso de una lista enlazada\n",
    "\n",
    "Implemente los siguientes métodos la Lista Enlazada para imprimir el contenido de la lista en orden inverso y evalúa su coste\n",
    "* Función no recursiva que no use algún TAD adicional ni acceda a la estructura de la lista, es decir, solo puede utilizar los métodos de la lista enlazada:\n",
    "```python\n",
    " def print_reverse_seq(lista):\n",
    "        pass\n",
    "```\n",
    "* Función no recursiva que use una pila:\n",
    "```python\n",
    " def print_reverse_stack(self):\n",
    "        pass\n",
    "```\n",
    "* Procedimiento recursivo\n",
    "```python\n",
    "def print_reverse_rec(self):\n",
    "    pass\n",
    "```\n",
    "**Solución:**\n",
    "\n",
    "```python\n",
    "    def print_reverse_seq(self):\n",
    "        size = len(self)\n",
    "        for i in range(size):\n",
    "            data = self.delete_last()\n",
    "            print(data)\n",
    "            self.add_first(data)\n",
    "            \n",
    "    def print_reverse_rec(self):\n",
    "        def _print_reverse_rec(aux):\n",
    "            # Base case\n",
    "            if aux == None:\n",
    "                return\n",
    "            # General case\n",
    "            _print_reverse_rec(aux._next)\n",
    "            print(aux._data)\n",
    "            \n",
    "        _print_reverse_rec(self._head)\n",
    "        \n",
    "    def print_reverse_stack(self):\n",
    "        s = Stack()     # importa antes la pila si fuese necesario \n",
    "        for elem in self:  # Si la clase no incorporase el método iter, recorre los nodos\n",
    "            s.push(elem)\n",
    "        while not s.is_empty():\n",
    "            print(s.pop())\n",
    "```\n"
   ]
  },
  {
   "cell_type": "markdown",
   "id": "4c881185",
   "metadata": {
    "hideCode": false,
    "hidePrompt": false
   },
   "source": [
    "###  Intercambio del primer y último nodo de una lista enlazada. \n",
    "Implementar las siguientes funciones para intercambiar el primer y último elemento de una lista enlazada. Analiza el el coste asíntótico y real de ambos métodos.\n",
    "* Método de la clase LinkedList accediendo a la estructura de datos\n",
    "```python\n",
    "def swapp_first_last(self):\n",
    "        pass\n",
    "```\n",
    "* Función sin acceso a la estructura de datos\n",
    "```python\n",
    "def swapp_first_last_primitives(self):\n",
    "        pass\n",
    "```\n",
    "**Solución:**\n",
    "```python\n",
    "def swapp_first_last(self):\n",
    "    '''intercambiar el primer y último elemento de una lista\n",
    "    intercambiando los campos data de los nodos\n",
    "    '''\n",
    "    if self.is_empty():\n",
    "        return\n",
    "    self._head._data, self._tail._data = self._tail._data, self._head._data\n",
    "```\n",
    "```python\n",
    "def swapp_first_last_primitives(self):\n",
    "        first = self.delete_first()\n",
    "        last = self.delete_last()\n",
    "        self.add_first(last)\n",
    "        self.add_last(first)\n",
    "```"
   ]
  },
  {
   "cell_type": "markdown",
   "id": "d3c82afc",
   "metadata": {
    "hideCode": false,
    "hidePrompt": false
   },
   "source": [
    "### Inversión de una lista enlazada\n",
    "\n",
    "* Implementar una función iterativa y otra función recursiva que inviertan una lista, de manera que el último nodo se convierta en el primero, y ası́ sucesivamente\n",
    "\n",
    "```python\n",
    "def  list_invert_iter(self):\n",
    "    pass\n",
    "\n",
    "def  list_invert_rec(self):\n",
    "    pass\n",
    "```\n",
    "\n",
    "**Solución:**\n",
    "\n",
    "````python\n",
    "def  list_invert_iter(self):\n",
    "    if self.is_empty():\n",
    "            return\n",
    "        \n",
    "    self._tail = self._head\n",
    "    aux = self._head\n",
    "    self._head = None\n",
    "    \n",
    "    while aux != None:\n",
    "        aux_next = aux._next\n",
    "        aux._next = self._head\n",
    "        self._head = aux\n",
    "        aux = aux_next\n",
    "            \n",
    "def list_invert_rec(self):\n",
    "    def _list_invert_rec(actual, prev):  \n",
    "        # Base case\n",
    "        if actual._next == None:\n",
    "            actual._next = prev \n",
    "            return\n",
    "            \n",
    "        # General case\n",
    "        _list_invert_rec(actual._next, actual)\n",
    "        actual._next = prev\n",
    "    \n",
    "    if not self.is_empty():\n",
    "        _list_invert_rec(self._head, None)\n",
    "        self._head, self._tail = self._tail, self._head\n",
    "   \n",
    "````"
   ]
  },
  {
   "cell_type": "markdown",
   "id": "65849e7a",
   "metadata": {},
   "source": [
    "### Buscar un elemento en una lista enlazada\n",
    "\n",
    "Programe una función recursiva que busque un elemento en una lista enlazada y devuelva la posición en que se encuentra o -1 sino se encontrase en ella.\n",
    "```python\n",
    "def contains_rec(self, item):\n",
    "    pass\n",
    "```\n",
    "**Solución:**\n",
    "```python\n",
    "def contains_rec(self, item):\n",
    "        def _contains_rec(node, item):\n",
    "            # Caso base\n",
    "            if node == None:\n",
    "                return -1\n",
    "            if node._data == item:\n",
    "                return 0\n",
    "            # Caso General\n",
    "            a = _contains_rec(node._next, item)\n",
    "            if a == -1:\n",
    "                return -1\n",
    "            else:\n",
    "                return 1 + a\n",
    "        \n",
    "        return _contains_rec(self._head, item)\n",
    "```\n"
   ]
  },
  {
   "cell_type": "code",
   "execution_count": 14,
   "id": "e718de3c",
   "metadata": {},
   "outputs": [],
   "source": [
    "def contains_rec(self, item):\n",
    "        def _contains_rec(node, item):\n",
    "            # Caso base\n",
    "            if node == None:\n",
    "                return -1\n",
    "            if node._data == item:\n",
    "                return 0\n",
    "            \n",
    "            # Caso General\n",
    "            a = _contains_rec(node._next, item)\n",
    "            if a == -1:\n",
    "                return -1\n",
    "            else:\n",
    "                return 1 + a\n",
    "        \n",
    "        return _contains_rec(self._head, item)"
   ]
  },
  {
   "cell_type": "markdown",
   "id": "3d2db450",
   "metadata": {},
   "source": [
    "## Listas doblemente enlazadas"
   ]
  },
  {
   "cell_type": "markdown",
   "id": "a6e7d55b",
   "metadata": {
    "hideCode": false,
    "hidePrompt": false
   },
   "source": [
    "### Lista doblemente enlazada  ordenada\n",
    "\n",
    "Crea el TAD OrderDoubleLinked que soporta una lista doblemente enlazada **ordenada**. El TAD debe tener los método para insertar un elemento en la lista y para eliminar un elemento de la lista si este se encontrase en ella. En la implementación **no** utilices un iterador. Piensa un diseño que reutilice el código de la lista dobelemente enlazada. \n",
    "```python\n",
    "def delete(self, elem):\n",
    "    pass\n",
    "```\n",
    "\n",
    "**Solución:** Es importante que no  mires la solución\n",
    "\n",
    "* Una característica importante de nuestra solución es que hemos optado porqué la clase OrderedDoubleLInked sea una subcalse de DoubleLinked. "
   ]
  },
  {
   "cell_type": "code",
   "execution_count": 15,
   "id": "20e1367b",
   "metadata": {
    "hideCode": false,
    "hidePrompt": false
   },
   "outputs": [
    {
     "name": "stdout",
     "output_type": "stream",
     "text": [
      "< 2 5 7 10 >\n",
      "< 2 7 >\n"
     ]
    }
   ],
   "source": [
    "class OrderDoubleLinked(_DoubleLinked):\n",
    "    \n",
    "    def insert(self, elem):\n",
    "        aux = self._header._next;\n",
    "        \n",
    "        # traverse the list \n",
    "        while aux != self._tailer and aux._data < elem:\n",
    "            aux = aux._next\n",
    "        \n",
    "        predecessor = aux._prev\n",
    "        sucessor = aux\n",
    "        self._insert_between(elem, predecessor, sucessor)\n",
    "        \n",
    "    def delete(self, elem):\n",
    "        aux = self._header._next\n",
    "        \n",
    "        # traverse the list \n",
    "        while aux != self._tailer and aux._data != elem:\n",
    "            aux = aux._next\n",
    "        \n",
    "        if aux == self._tailer:\n",
    "            return\n",
    "        return self._delete_node(aux)\n",
    "\n",
    "#-------- Driver code        \n",
    "if __name__ == '__main__':\n",
    "    o = OrderDoubleLinked()\n",
    "    o.insert(5)\n",
    "    o.insert(2)\n",
    "    o.insert(10)\n",
    "    o.insert(7)\n",
    "    \n",
    "    print(o)\n",
    "    o.delete(5)\n",
    "    o.delete(10)\n",
    "    o.delete(100)\n",
    "    print(o)\n",
    "        "
   ]
  },
  {
   "cell_type": "markdown",
   "id": "61b612f0",
   "metadata": {
    "hideCode": false,
    "hidePrompt": false
   },
   "source": [
    "### Insertar en la posición i-ésima de una lista doblemente enlazada\n",
    "\n",
    "Proporcione un método para una lista doblemente enlazada que permite insertar en la posición i-ésima. Se consideran índices válidos los comprendidos en el intervalo $[0, size]$ siendo *size* el tamaño de la lista. La función deberá lanzar una excepción si el índice no es válido. Al igual que otras métoods de la clase, el método devolverá la posición del nuevo nodo.\n",
    " \n",
    "```python\n",
    "def _insert_position(self, data, index):\n",
    "    pass\n",
    "```\n",
    "\n",
    "**Solución:**\n",
    "\n",
    "En nuestra solución hemos adoptado las siguientes _decisiones de diseño_\n",
    "\n",
    "* Para facilitar la legibilidad del código hemos decido emplear índices. Con `self[index]` indicamos un enlace al nodo que ocupa la posición index de la lista. Para poder utilizar índices hemos sobrescrito el método `__getitem__()`. El código se muestra a continuación. **Sin embargo debes ser muy consciente que aunque estamos utilizando la notación de índices para acceder al iésimo elemento de la lista, el acceso sigue teniendo coste $O(n)$ ya que para acceder al elemento obviamente estamos obligados a recorrer toda la lista.**  \n",
    "\n",
    "* En nuestra solución, además, asumimos que nuestra lista doblemente enlazada tiene implementado un método `__iter__()`.\n",
    "\n",
    "* Por coherencia con el método _insert_between() hemos decido que el método `_insert_position()` devuelva un enlace al nuevo nodo."
   ]
  },
  {
   "cell_type": "code",
   "execution_count": 16,
   "id": "1b27eaf5",
   "metadata": {
    "hideCode": false,
    "hidePrompt": false
   },
   "outputs": [],
   "source": [
    "def _insert_position(self, data, index):\n",
    "        if not isinstance(index, int) or index > len(self) or index < 0:\n",
    "            raise IndexError('Index Error')\n",
    "        \n",
    "        if index == len(self):\n",
    "            sucessor = self._tailer\n",
    "        else:\n",
    "            sucessor = self[index]\n",
    "        newest = self._insert_between(data, sucessor._prev, sucessor)\n",
    "        return newest\n",
    "\n",
    "def __getitem__(self, index):\n",
    "        if not isinstance(index, int) or index >= self._size or index < 0:\n",
    "            raise IndexError('Index Error')\n",
    "        \n",
    "        for i, node in enumerate(self):\n",
    "            if i == index:\n",
    "                return node"
   ]
  },
  {
   "cell_type": "markdown",
   "id": "4e060b8b",
   "metadata": {
    "hideCode": false,
    "hidePrompt": false
   },
   "source": [
    "## Apéndice\n",
    "\n",
    "(código con las funciones de los problemas para que los puedas probar)"
   ]
  },
  {
   "cell_type": "code",
   "execution_count": 23,
   "id": "72bebb99",
   "metadata": {
    "hideCode": false,
    "hidePrompt": false
   },
   "outputs": [
    {
     "name": "stdout",
     "output_type": "stream",
     "text": [
      "recursive\n",
      "10\n",
      "7\n",
      "5\n",
      "1\n",
      "10\n",
      "7\n",
      "5\n",
      "1\n",
      "10\n",
      "7\n",
      "5\n",
      "1\n",
      "< 10 5 7 1 >\n",
      "< 1 7 5 10 >\n",
      "-1\n"
     ]
    }
   ],
   "source": [
    "class Empty(Exception):\n",
    "    pass\n",
    "      \n",
    "class LinkedList_prob(LinkedList):\n",
    "    ''' Prueba de las funciones de los problemas de lista enlazada'''\n",
    "\n",
    "    # ---- Problema Print reverse\n",
    "    \n",
    "    def print_reverse_seq(self):\n",
    "        size = len(self)\n",
    "        \n",
    "        for i in range(size):\n",
    "            data = self.delete_last()\n",
    "            print(data)\n",
    "            self.add_first(data)\n",
    "            \n",
    "    def print_reverse_rec(self):\n",
    "        def _print_reverse_rec(aux):\n",
    "            \n",
    "            # Base case\n",
    "            if aux == None:\n",
    "                return\n",
    "    \n",
    "            # General case\n",
    "            _print_reverse_rec(aux._next)\n",
    "            print(aux._data)\n",
    "            \n",
    "        _print_reverse_rec(self._head)\n",
    "        \n",
    "    def print_reverse_stack(self):\n",
    "        s = Stack()\n",
    "        \n",
    "        for elem in self:  \n",
    "            s.push(elem)\n",
    "            \n",
    "        while not s.is_empty():\n",
    "            print(s.pop())\n",
    "    \n",
    "    #------ Problema: Intercambio del primer y ultimo nodo \n",
    "    \n",
    "    def swapp_first_last(self):\n",
    "        '''intercambiar el primer y último elemento de una lista\n",
    "        Intercambia los campos data de los nodos\n",
    "        '''\n",
    "        if self.is_empty():\n",
    "            return\n",
    "        self._head._data, self._tail._data = self._tail._data, self._head._data\n",
    "    \n",
    "    def add_order(self, data):\n",
    "        '''inserta en una lista ordenada'''\n",
    "        \n",
    "        if self.is_empty() or data < self._head._data:\n",
    "            self.add_first(data)\n",
    "            return\n",
    "        \n",
    "        # Traverse the list with auxiliar to stop BEFORE the first bigger than data\n",
    "        auxiliar = self._head\n",
    "        while auxiliar._next != None and data >= auxiliar._next._data:\n",
    "            auxiliar = auxiliar._next\n",
    "        \n",
    "        newest = self._Node(data)  # create new node instance storing reference to element data\n",
    "        \n",
    "        # last node\n",
    "        if auxiliar._next is None:\n",
    "            self._tail = newest\n",
    "        \n",
    "        newest._next = auxiliar._next  # \n",
    "        auxiliar._next = newest        # set the Before node to reference the new\n",
    "        self._size += 1\n",
    "        \n",
    "    #----------- Inversión de una lista\n",
    "    def  list_invert(self):\n",
    "        if self.is_empty():\n",
    "            return\n",
    "        \n",
    "        self._tail = self._head\n",
    "        \n",
    "        aux = self._head\n",
    "        self._head = None\n",
    "        while aux != None:\n",
    "            aux_next = aux._next\n",
    "            aux._next = self._head\n",
    "            self._head = aux\n",
    "            aux = aux_next\n",
    "\n",
    "    def list_invert_rec(self):\n",
    "        \n",
    "        def _list_invert_rec(actual, prev):  \n",
    "            # Base case\n",
    "            if actual._next == None:\n",
    "                actual._next = prev \n",
    "                return\n",
    "            \n",
    "            # General case\n",
    "            _list_invert_rec(actual._next, actual)\n",
    "            actual._next = prev\n",
    "        \n",
    "        if not self.is_empty():\n",
    "            _list_invert_rec(self._head, None)\n",
    "            self._head, self._tail = self._tail, self._head\n",
    "    \n",
    "    #-------  contains rec -----\n",
    "            \n",
    "    def contains_rec(self, item):\n",
    "        def _contains_rec(node, item):\n",
    "            # Caso base\n",
    "            if node == None:\n",
    "                return -1\n",
    "            if node._data == item:\n",
    "                return 0\n",
    "            \n",
    "            # Caso General\n",
    "            a = _contains_rec(node._next, item)\n",
    "            if a == -1:\n",
    "                return -1\n",
    "            else:\n",
    "                return 1 + a\n",
    "        \n",
    "        return _contains_rec(self._head, item)\n",
    "            \n",
    "            \n",
    "#------- Driver code\n",
    " \n",
    "if __name__ == '__main__':    \n",
    "    \n",
    "    l = LinkedList_prob()\n",
    "    \n",
    "    l.add_first(1)\n",
    "    l.add_last(5)\n",
    "    l.add_last(7)\n",
    "    l.add_last(10)\n",
    "\n",
    "    print('recursive')\n",
    "    l.print_reverse_rec()\n",
    "    l.print_reverse_seq()\n",
    "    l.print_reverse_stack()\n",
    "    \n",
    "    # intercambia primero y ultimo nodo\n",
    "    l.swapp_first_last()\n",
    "    print(l)\n",
    "    l.list_invert_rec()\n",
    "    print(l)\n",
    "    print(l.contains_rec(11))\n",
    "  "
   ]
  },
  {
   "cell_type": "code",
   "execution_count": null,
   "id": "7e6493a2",
   "metadata": {},
   "outputs": [],
   "source": []
  }
 ],
 "metadata": {
  "hide_code_all_hidden": false,
  "hide_input": false,
  "kernelspec": {
   "display_name": "Python 3 (ipykernel)",
   "language": "python",
   "name": "python3"
  },
  "language_info": {
   "codemirror_mode": {
    "name": "ipython",
    "version": 3
   },
   "file_extension": ".py",
   "mimetype": "text/x-python",
   "name": "python",
   "nbconvert_exporter": "python",
   "pygments_lexer": "ipython3",
   "version": "3.9.13"
  },
  "latex_envs": {
   "LaTeX_envs_menu_present": true,
   "autoclose": false,
   "autocomplete": true,
   "bibliofile": "biblio.bib",
   "cite_by": "apalike",
   "current_citInitial": 1,
   "eqLabelWithNumbers": true,
   "eqNumInitial": 1,
   "hotkeys": {
    "equation": "Ctrl-E",
    "itemize": "Ctrl-I"
   },
   "labels_anchors": false,
   "latex_user_defs": false,
   "report_style_numbering": false,
   "user_envs_cfg": false
  },
  "nbTranslate": {
   "displayLangs": [
    "es",
    "en"
   ],
   "hotkey": "alt-t",
   "langInMainMenu": true,
   "sourceLang": "en",
   "targetLang": "es",
   "useGoogleTranslate": true
  },
  "toc": {
   "base_numbering": 1,
   "nav_menu": {},
   "number_sections": true,
   "sideBar": true,
   "skip_h1_title": false,
   "title_cell": "Table of Contents",
   "title_sidebar": "Contents",
   "toc_cell": false,
   "toc_position": {
    "height": "calc(100% - 180px)",
    "left": "10px",
    "top": "150px",
    "width": "262.167px"
   },
   "toc_section_display": true,
   "toc_window_display": true
  }
 },
 "nbformat": 4,
 "nbformat_minor": 5
}
