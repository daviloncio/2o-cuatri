{
 "cells": [
  {
   "cell_type": "code",
   "execution_count": 34,
   "metadata": {},
   "outputs": [
    {
     "name": "stdout",
     "output_type": "stream",
     "text": [
      "Cantidad mínima de monedas necesarias: 5\n",
      "Monedas utilizadas: {1: 3, 5: 1, 10: 1}\n"
     ]
    }
   ],
   "source": [
    "def min_coin_change(coins, target):\n",
    "    # Crear una tabla para almacenar la cantidad mínima de monedas necesarias\n",
    "    table = [float('inf')] * (target + 1)\n",
    "    coins_used = {}  # Diccionario para almacenar las monedas utilizadas\n",
    "\n",
    "    # Caso base: No se necesitan monedas para alcanzar una cantidad objetivo de 0\n",
    "    table[0] = 0\n",
    "\n",
    "    # Calcular la cantidad mínima de monedas necesarias para cada cantidad objetivo\n",
    "    for i in range(1, target + 1):\n",
    "        for coin in coins:\n",
    "            if i >= coin and table[i - coin] + 1 < table[i]:\n",
    "                table[i] = table[i - coin] + 1\n",
    "                coins_used[i] = coin  # Actualizar el diccionario con la moneda utilizada\n",
    "\n",
    "    # Manejar el caso en el que no hay solución posible\n",
    "    if table[target] == float('inf'):\n",
    "        return -1, []\n",
    "\n",
    "    # Construir la lista de monedas utilizadas\n",
    "    coin_histogram = {}\n",
    "    for coin in coins:\n",
    "        coin_histogram[coin]=0\n",
    "    current_amount = target\n",
    "    while current_amount > 0:\n",
    "        coin = coins_used[current_amount]\n",
    "        coin_histogram[coin]+=1\n",
    "        current_amount -= coin\n",
    "\n",
    "    return table[target], coin_histogram\n",
    "\n",
    "\n",
    "# Ejemplo de uso\n",
    "coins = [1, 5, 10]\n",
    "target = 18\n",
    "min_coins, used_coins = min_coin_change(coins, target)\n",
    "print(\"Cantidad mínima de monedas necesarias:\", min_coins)\n",
    "print(\"Monedas utilizadas:\", used_coins)\n",
    "\n",
    "    \n",
    "    "
   ]
  },
  {
   "cell_type": "code",
   "execution_count": 30,
   "metadata": {},
   "outputs": [
    {
     "ename": "TypeError",
     "evalue": "can only concatenate list (not \"int\") to list",
     "output_type": "error",
     "traceback": [
      "\u001b[1;31m---------------------------------------------------------------------------\u001b[0m",
      "\u001b[1;31mTypeError\u001b[0m                                 Traceback (most recent call last)",
      "Cell \u001b[1;32mIn[30], line 43\u001b[0m\n\u001b[0;32m     41\u001b[0m coins \u001b[39m=\u001b[39m [\u001b[39m1\u001b[39m, \u001b[39m5\u001b[39m, \u001b[39m10\u001b[39m]\n\u001b[0;32m     42\u001b[0m target \u001b[39m=\u001b[39m \u001b[39m18\u001b[39m\n\u001b[1;32m---> 43\u001b[0m min_coins, used_coins \u001b[39m=\u001b[39m min_coin_change(coins, target)\n\u001b[0;32m     44\u001b[0m \u001b[39mprint\u001b[39m(\u001b[39m\"\u001b[39m\u001b[39mCantidad mínima de monedas necesarias:\u001b[39m\u001b[39m\"\u001b[39m, min_coins)\n\u001b[0;32m     45\u001b[0m \u001b[39mprint\u001b[39m(\u001b[39m\"\u001b[39m\u001b[39mMonedas utilizadas:\u001b[39m\u001b[39m\"\u001b[39m, used_coins)\n",
      "Cell \u001b[1;32mIn[30], line 2\u001b[0m, in \u001b[0;36mmin_coin_change\u001b[1;34m(target, coins)\u001b[0m\n\u001b[0;32m      1\u001b[0m \u001b[39mdef\u001b[39;00m \u001b[39mmin_coin_change\u001b[39m(target,coins\u001b[39m=\u001b[39m[\u001b[39m1\u001b[39m,\u001b[39m5\u001b[39m,\u001b[39m10\u001b[39m]):\n\u001b[1;32m----> 2\u001b[0m     tabla\u001b[39m=\u001b[39m[\u001b[39mfloat\u001b[39m(\u001b[39m'\u001b[39m\u001b[39minf\u001b[39m\u001b[39m'\u001b[39m)]\u001b[39m*\u001b[39m(target\u001b[39m+\u001b[39;49m\u001b[39m1\u001b[39;49m)\n\u001b[0;32m      3\u001b[0m     tabla[\u001b[39m0\u001b[39m]\u001b[39m=\u001b[39m\u001b[39m0\u001b[39m\n\u001b[0;32m      4\u001b[0m     \u001b[39mfor\u001b[39;00m i \u001b[39min\u001b[39;00m \u001b[39mrange\u001b[39m(\u001b[39m1\u001b[39m,target\u001b[39m+\u001b[39m\u001b[39m1\u001b[39m):\n",
      "\u001b[1;31mTypeError\u001b[0m: can only concatenate list (not \"int\") to list"
     ]
    }
   ],
   "source": [
    "def min_coin_change(target,coins=[1,5,10]):\n",
    "    tabla=[float('inf')]*(target+1)\n",
    "    tabla[0]=0\n",
    "    for i in range(1,target+1):\n",
    "        for coin in coins:\n",
    "            if coin<=i:\n",
    "                tabla[i]=min(1+tabla[i-coin],tabla[i])\n",
    "    return tabla[target]\n",
    "\n",
    "\n",
    "def pd_mochila_0_1(w:list,v:list,tope:int):\n",
    "    valor_max_a_llevar=[0]*(tope+1)\n",
    "    valor_max_a_llevar[0]=0\n",
    "    \n",
    "    for peso in range(1,tope+1):\n",
    "        espacio_libre=wi\n",
    "        for wi in w:\n",
    "            if peso>=wi:\n",
    "                valor_max_a_llevar[peso]=valor_max_a_llevar[peso-wi]\n",
    "            else:\n",
    "                \n",
    "            \n",
    "            \n",
    "\n"
   ]
  },
  {
   "cell_type": "code",
   "execution_count": 31,
   "metadata": {},
   "outputs": [
    {
     "ename": "IndexError",
     "evalue": "list assignment index out of range",
     "output_type": "error",
     "traceback": [
      "\u001b[1;31m---------------------------------------------------------------------------\u001b[0m",
      "\u001b[1;31mIndexError\u001b[0m                                Traceback (most recent call last)",
      "Cell \u001b[1;32mIn[31], line 2\u001b[0m\n\u001b[0;32m      1\u001b[0m a\u001b[39m=\u001b[39m[]\n\u001b[1;32m----> 2\u001b[0m a[\u001b[39m4\u001b[39;49m]\u001b[39m=\u001b[39m\u001b[39m'\u001b[39m\u001b[39ma\u001b[39m\u001b[39m'\u001b[39m\n\u001b[0;32m      3\u001b[0m \u001b[39mprint\u001b[39m(a)\n",
      "\u001b[1;31mIndexError\u001b[0m: list assignment index out of range"
     ]
    }
   ],
   "source": []
  },
  {
   "cell_type": "code",
   "execution_count": 6,
   "metadata": {},
   "outputs": [
    {
     "name": "stdout",
     "output_type": "stream",
     "text": [
      "[3, 2, 4, 8, 9, -13, 12]\n"
     ]
    }
   ],
   "source": [
    "def insertsort(t:list):\n",
    "    for i in range(len(t)-1):\n",
    "        while t[i]>t[i+1]:\n",
    "            t[i],t[i+1]=t[i+1],t[i]\n",
    "    return t\n",
    "\n",
    "a=[8,3,2,4,9,12,-13]\n",
    "insertsort(a)\n",
    "print(a)"
   ]
  },
  {
   "cell_type": "code",
   "execution_count": null,
   "metadata": {},
   "outputs": [],
   "source": []
  },
  {
   "cell_type": "code",
   "execution_count": null,
   "metadata": {},
   "outputs": [],
   "source": []
  },
  {
   "cell_type": "code",
   "execution_count": null,
   "metadata": {},
   "outputs": [],
   "source": []
  },
  {
   "cell_type": "code",
   "execution_count": null,
   "metadata": {},
   "outputs": [],
   "source": []
  },
  {
   "cell_type": "code",
   "execution_count": 28,
   "metadata": {},
   "outputs": [
    {
     "data": {
      "text/plain": [
       "'({[a+b[-c]]})'"
      ]
     },
     "execution_count": 28,
     "metadata": {},
     "output_type": "execute_result"
    }
   ],
   "source": [
    "def set_balance(expr):  #<--'([a+b]-c'\n",
    "    s = Stack()\n",
    "    abrimos = ('(','[','{')\n",
    "    cerramos = (')',']','}')\n",
    "    \n",
    "    for char in expr:\n",
    "        if char in abrimos:\n",
    "            s.push(char)\n",
    "        elif char in cerramos:  #en la función solo debemos\n",
    "#poner paréntesis, pero no quiere decir que el parametro pueda tener parentesis colocados erroneamente\n",
    "            s.pop()\n",
    "    while s.is_empty() == False:\n",
    "        expr += cerramos[abrimos.index(s.pop())]\n",
    "    return expr\n",
    "\n",
    "set_balance('({[a+b[-c')\n",
    "    \n",
    "    \n",
    "    \n",
    "    "
   ]
  },
  {
   "cell_type": "code",
   "execution_count": 9,
   "metadata": {},
   "outputs": [
    {
     "data": {
      "text/plain": [
       "'1100'"
      ]
     },
     "execution_count": 9,
     "metadata": {},
     "output_type": "execute_result"
    }
   ],
   "source": [
    "def decimal_to_base_rec (num:int, base:int)->str:\n",
    "    \n",
    "    \"\"\"decimal_to_base_rec(19,2) '1100'\n",
    "    decimal_to_base_rec(7,5)     '21'\n",
    "    \"\"\"\n",
    "    if num<base:\n",
    "        return str(num)\n",
    "    elif num == base:\n",
    "        return '0'\n",
    "        \n",
    "    cociente,resto = divmod(num,base)\n",
    "    \n",
    "    result = str(resto)+decimal_to_base_rec(cociente,base)\n",
    "    return result\n",
    "\n",
    "decimal_to_base_rec(19,2)\n",
    "    "
   ]
  },
  {
   "cell_type": "code",
   "execution_count": null,
   "metadata": {},
   "outputs": [],
   "source": [
    "class Queue:\n",
    "    '''FIFO Queue implementation using a Python list as underlying storage.'''\n",
    "    DEFAULT_CAPACITY = 4\n",
    "    GROWTH_FACTOR = 2\n",
    "    \n",
    "    def __init__(self):\n",
    "        self._data = [None] * Queue.DEFAULT_CAPACITY  # nonpublic list instance\n",
    "        self._size = 0\n",
    "        self._front = 0  \n",
    "    \n",
    "    def enqueue(self, item):\n",
    "        '''Add elemente to the back of queue\n",
    "        \n",
    "        Resize if the queue is full \n",
    "        '''\n",
    "        \n",
    "        if self._is_full():\n",
    "            self._resize(len(self._data) * Queue.GROWTH_FACTOR)\n",
    "        \n",
    "        index = (self._front + self._size) % len(self._data)\n",
    "        self._data[index] = item\n",
    "        self._size += 1\n",
    "        \n",
    "        return True    \n",
    "    \n",
    "    def dequeue(self):\n",
    "        '''Remove and return the front element from the queue;\n",
    "        \n",
    "        Raise a TypeError exception if the queue is empty\n",
    "        '''\n",
    "        \n",
    "        if self._size == 0:\n",
    "            raise TypeError(\"Empty queue\")\n",
    "        \n",
    "        e = self._data[self._front]\n",
    "        self._data[self._front] = None    # help garbage collection\n",
    "        self._front = (self._front + 1) % len(self._data)\n",
    "        self._size -= 1\n",
    "        return e\n",
    "    \n",
    "    def _is_full(self):\n",
    "        if self._size == len(self._data):\n",
    "            return True\n",
    "        return False\n",
    "    \n",
    "    def _resize(self, cap):\n",
    "        '''Resize to a new list capacity'''\n",
    "        old = self._data                  # keep track oth eold list\n",
    "        self._data = [None] * cap         # new memorya alocation\n",
    "        for k in range (0, self._size):   \n",
    "            index = (self._front + k) % len(old)   # shift index\n",
    "            self._data[k] = old[index]\n",
    "            \n",
    "        self._front = 0    \n",
    "    \n",
    "    def is_empty(self):\n",
    "        '''Return True if stack does not contain any elements.'''\n",
    "        return self._size == 0\n",
    "       \n",
    "    def first(self):\n",
    "        '''Return a reference to the front element of the queue, \n",
    "        \n",
    "        Raise TypeError exception if the queue is empty\n",
    "        '''\n",
    "\n",
    "        if self.is_empty():\n",
    "            raise TypeError('Queue is empty')\n",
    "            \n",
    "        return self._data[self._front]\n",
    "        \n",
    "    def __len__(self):\n",
    "        '''Return the number of elements in the queue.'''\n",
    "        return self._size\n",
    "    \n",
    "    def __str__(self):\n",
    "        if self.is_empty():\n",
    "            return '< >'\n",
    "        \n",
    "        index = -1 # necessary for queues with only one element\n",
    "        str_ = '<'\n",
    "        \n",
    "        for i in range(self._size - 1):\n",
    "            index = (self._front + i) % len(self._data)\n",
    "            str_ += str(self._data[index]) + ','\n",
    "         \n",
    "        index = (index + 1) % len(self._data)\n",
    "        str_ += str(self._data[index]) + \">\"\n",
    "        return str_\n",
    "    \n",
    "    \n",
    "    \n",
    "\n",
    "class Deque:\n",
    "    def __init__(self) -> None:\n",
    "        self._data = Queue()\n",
    "    def append(self,item):\n",
    "        self._data.enqueue(item)\n",
    "    def pop(self):\n",
    "        while len(self._data) != 1:\n",
    "            self._data.enqueue(self._data.dequeue())\n",
    "        self._data.dequeue()\n",
    "    def append_left(self,item):\n",
    "        self._data.enqueue(item)\n",
    "        while len(self._data) != 1:\n",
    "            self._data.enqueue(self._data.dequeue())\n",
    "    def pop_left(self):\n",
    "        self._data.dequeue()\n",
    "            "
   ]
  },
  {
   "cell_type": "code",
   "execution_count": null,
   "metadata": {},
   "outputs": [],
   "source": [
    "class Alumno:\n",
    "    def __init__(self,name,edad) -> None:\n",
    "        self.__edad = edad\n",
    "        self.__name = name\n",
    "        self.__grado = None\n",
    "        \n",
    "    @property\n",
    "    def grado(self):\n",
    "        return self.__grado    \n",
    "    @grado.setter\n",
    "    def grado(self,grado):\n",
    "        self.__grado = grado\n",
    "\n",
    "    def __str__(self) -> str:\n",
    "        return f'{self.__name} ({self.__edad}años,clase {self.__grado})'\n",
    "    \n",
    "    \n",
    "\n",
    "\n",
    "class ClaseAlumnos:\n",
    "    __num_clases = 0\n",
    "\n",
    "    def __init__(self,grado) -> None:\n",
    "        ClaseAlumnos.__num_clases += 1\n",
    "        \n",
    "        self.__num_alumnos = 0\n",
    "        self.__grado = grado\n",
    "        self.__lista = []\n",
    "\n",
    "    def numero_de_clases_creadas():\n",
    "        return ClaseAlumnos.__num_clases\n",
    "    \n",
    "    def matricular(self,v:Alumno):\n",
    "        self.__num_alumnos += 1\n",
    "        self.__lista.append(v)\n",
    "        print(self.__grado)\n",
    "        v.__grado = self.__grado\n",
    "    def __str__(self) -> str:\n",
    "        p = ''\n",
    "        for alumno in self.__lista:\n",
    "            p += str(alumno) + ','\n",
    "            \n",
    "        return f'Clase: {self.__grado}(alumnos:{self.__num_alumnos}\\n [{p}])'\n",
    "    \n",
    "\n",
    "\n",
    "c1, c2 = ClaseAlumnos(\"Tercero\"), ClaseAlumnos(\"Segundo\")\n",
    "a1, a2 = Alumno(\"Juan\", 21), Alumno(\"Ana\", 22)\n",
    "a3, a4 = Alumno(\"Luis\", 23), Alumno(\"Sonia\", 23) \n",
    "c1.matricular(a1) ; c1.matricular(a2)\n",
    "c2.matricular(a3) ; c2.matricular(a4)\n",
    "print(\"Numero de clases de alumnos: \", ClaseAlumnos.numero_de_clases_creadas())\n",
    "print(c1)\n",
    "print(c2)\n",
    "        "
   ]
  },
  {
   "cell_type": "code",
   "execution_count": null,
   "metadata": {},
   "outputs": [],
   "source": []
  }
 ],
 "metadata": {
  "kernelspec": {
   "display_name": "Python 3",
   "language": "python",
   "name": "python3"
  },
  "language_info": {
   "codemirror_mode": {
    "name": "ipython",
    "version": 3
   },
   "file_extension": ".py",
   "mimetype": "text/x-python",
   "name": "python",
   "nbconvert_exporter": "python",
   "pygments_lexer": "ipython3",
   "version": "3.10.11"
  },
  "orig_nbformat": 4
 },
 "nbformat": 4,
 "nbformat_minor": 2
}
