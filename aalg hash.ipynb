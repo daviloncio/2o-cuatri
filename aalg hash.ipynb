{
 "cells": [
  {
   "cell_type": "code",
   "execution_count": 8,
   "metadata": {},
   "outputs": [],
   "source": [
    "import numpy as np\n",
    "def my_hash(key: int, max_val: int) -> int:\n",
    "    \"\"\"genera un int aleatorio entre 0 y max_val-1 usando key como seed.\n",
    "    \"\"\"\n",
    "    np.random.seed(key)\n",
    "    return np.random.randint(max_val)\n",
    "\n",
    "\n",
    "def generar_nies(num_nies: int, nie_min=400_000, nie_max=500_000) -> np.ndarray:\n",
    "    \"\"\"Genera un array con nunmeros aleatorios\n",
    "    \"\"\"\n",
    "    return np.random.randint(nie_min, nie_max, num_nies)\n",
    "\n",
    "def ini_hash_table(size_=200) -> np.ndarray:\n",
    "    \"\"\"Crea un array con Nones\n",
    "    \"\"\"\n",
    "    return np.array(size_ * [None])\n"
   ]
  },
  {
   "cell_type": "code",
   "execution_count": null,
   "metadata": {},
   "outputs": [],
   "source": [
    "def linear_hash_search(nia: int, t_hash: np.ndarray)-> tuple[int, bool]:\n",
    "    contador = my_hash(nia,len(t_hash)) #indice generado por el hash para situar dicho elemento en la tabla\n",
    "    while contador<len(t_hash):\n",
    "        if t_hash[contador] == nia:\n",
    "            return (contador,True)\n",
    "        elif t_hash[contador] == None:\n",
    "            return (contador,False)\n",
    "        contador +=1\n",
    "\n",
    "        \n",
    "\n",
    "\n",
    "    \n",
    "            \n",
    "        \n",
    "            "
   ]
  },
  {
   "cell_type": "code",
   "execution_count": null,
   "metadata": {},
   "outputs": [],
   "source": [
    "def linear_hash_insert(nia: int, t_hash: np.ndarray)-> int:\n",
    "    a = linear_hash_search(nia,t_hash)\n",
    "    if a[1] == False:\n",
    "        t_hash[a[0]]= nia\n",
    "    return a[0]\n",
    "\n",
    "nia = 488490\n",
    "z = ini_hash_table(75)\n",
    "linear_hash_insert(nia,z)\n",
    "print(z)"
   ]
  },
  {
   "cell_type": "code",
   "execution_count": null,
   "metadata": {},
   "outputs": [],
   "source": [
    "def create_linear_hash_table(t_nias: np.ndarray)-> np.ndarray:\n",
    "    new_table = ini_hash_table(2*(len(t_nias)))\n",
    "    for element in t_nias:\n",
    "       linear_hash_insert(element,new_table)\n",
    "    return new_table"
   ]
  },
  {
   "attachments": {},
   "cell_type": "markdown",
   "metadata": {},
   "source": [
    "I-B. Analizando el rendimiento del hashing lineal"
   ]
  },
  {
   "cell_type": "code",
   "execution_count": null,
   "metadata": {},
   "outputs": [],
   "source": [
    "def linear_hash_search_count(nia: int, t_hash: np.ndarray)-> tuple [int, bool, int]:\n",
    "    \n",
    "    contador = my_hash(nia,len(t_hash)) #indice generado por el hash para situar dicho elemento en la tabla\n",
    "    intentos = 1\n",
    "    while contador<len(t_hash):\n",
    "        if t_hash[contador] == nia:\n",
    "            return (contador,True,intentos)\n",
    "        elif t_hash[contador] == None:\n",
    "            return (contador,False,intentos)\n",
    "        contador +=1\n",
    "        intentos +=1\n",
    "        \n",
    "linear_hash_search_count(nia,z)"
   ]
  },
  {
   "cell_type": "code",
   "execution_count": null,
   "metadata": {},
   "outputs": [],
   "source": [
    "def linear_hash_search_average(num_nias, size_, fail=True)-> float:\n",
    "    tabla = generar_nies(2*num_nias)\n",
    "    hash = ini_hash_table(size_)\n",
    "    for i in range(num_nias):\n",
    "        nia = tabla[i]\n",
    "        linear_hash_insert(nia,hash)\n",
    "        \n",
    "    average = 0    \n",
    "    if fail == True:\n",
    "        \n",
    "        for i in range(num_nias):\n",
    "            h = hash[i]\n",
    "            a = linear_hash_search_count(h,hash)\n",
    "            average += a[2]\n",
    "        return average/num_nias\n",
    "                   \n",
    "    elif fail == False:\n",
    "        \n",
    "        for i in range(num_nias):\n",
    "            h = hash[i+num_nias]\n",
    "            a = linear_hash_search_count(h,hash)\n",
    "            average += a[2]\n",
    "        return average/num_nias\n",
    "       \n",
    "    "
   ]
  }
 ],
 "metadata": {
  "kernelspec": {
   "display_name": "Python 3",
   "language": "python",
   "name": "python3"
  },
  "language_info": {
   "codemirror_mode": {
    "name": "ipython",
    "version": 3
   },
   "file_extension": ".py",
   "mimetype": "text/x-python",
   "name": "python",
   "nbconvert_exporter": "python",
   "pygments_lexer": "ipython3",
   "version": "3.10.11"
  },
  "orig_nbformat": 4
 },
 "nbformat": 4,
 "nbformat_minor": 2
}
