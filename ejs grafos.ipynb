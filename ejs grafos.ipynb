{
 "cells": [
  {
   "cell_type": "code",
   "execution_count": 3,
   "metadata": {},
   "outputs": [],
   "source": []
  },
  {
   "cell_type": "code",
   "execution_count": 13,
   "metadata": {},
   "outputs": [
    {
     "ename": "AttributeError",
     "evalue": "type object 'LinkedVertex' has no attribute '_attributes'",
     "output_type": "error",
     "traceback": [
      "\u001b[1;31m---------------------------------------------------------------------------\u001b[0m",
      "\u001b[1;31mAttributeError\u001b[0m                            Traceback (most recent call last)",
      "Cell \u001b[1;32mIn[13], line 15\u001b[0m\n\u001b[0;32m     13\u001b[0m grafo \u001b[39m=\u001b[39m Graph()\n\u001b[0;32m     14\u001b[0m grafo\u001b[39m.\u001b[39madd_vertex(\u001b[39m'\u001b[39m\u001b[39mv0\u001b[39m\u001b[39m'\u001b[39m)\n\u001b[1;32m---> 15\u001b[0m DFS_iter(grafo,grafo\u001b[39m.\u001b[39;49m_vertices[\u001b[39m'\u001b[39;49m\u001b[39mv0\u001b[39;49m\u001b[39m'\u001b[39;49m])\n",
      "Cell \u001b[1;32mIn[13], line 5\u001b[0m, in \u001b[0;36mDFS_iter\u001b[1;34m(g, v)\u001b[0m\n\u001b[0;32m      4\u001b[0m \u001b[39mdef\u001b[39;00m \u001b[39mDFS_iter\u001b[39m(g:Graph(),v):   \u001b[39m#BUSQUEDA EN PROFUNDIDAD USANDO PILA\u001b[39;00m\n\u001b[1;32m----> 5\u001b[0m     g\u001b[39m.\u001b[39;49mset_vertices_attribute(\u001b[39m'\u001b[39;49m\u001b[39mcolor\u001b[39;49m\u001b[39m'\u001b[39;49m,\u001b[39m'\u001b[39;49m\u001b[39mWHITE\u001b[39;49m\u001b[39m'\u001b[39;49m)\n\u001b[0;32m      7\u001b[0m     pila \u001b[39m=\u001b[39m Stack()\n\u001b[0;32m      8\u001b[0m     pila\u001b[39m.\u001b[39mpush(v)\n",
      "File \u001b[1;32mc:\\Users\\juanj\\OneDrive\\Documentos\\2º cuatri\\Nueva carpeta\\repositorio1\\clas_Linked.py:114\u001b[0m, in \u001b[0;36mGraph.set_vertices_attribute\u001b[1;34m(self, name, value)\u001b[0m\n\u001b[0;32m    111\u001b[0m \u001b[39mdef\u001b[39;00m \u001b[39mset_vertices_attribute\u001b[39m(\u001b[39mself\u001b[39m, name, value \u001b[39m=\u001b[39m \u001b[39m'\u001b[39m\u001b[39mWHITE\u001b[39m\u001b[39m'\u001b[39m):  \u001b[39m#creo que name solo puede ser key,degree,color o parent\u001b[39;00m\n\u001b[0;32m    112\u001b[0m \u001b[39m    \u001b[39m\u001b[39m'''Set name attribute of vertices to a value\u001b[39;00m\n\u001b[0;32m    113\u001b[0m \u001b[39m    '''\u001b[39;00m\n\u001b[1;32m--> 114\u001b[0m     \u001b[39mif\u001b[39;00m name \u001b[39min\u001b[39;00m LinkedVertex\u001b[39m.\u001b[39;49m_attributes\u001b[39m.\u001b[39mkeys():\n\u001b[0;32m    116\u001b[0m         \u001b[39mfor\u001b[39;00m nombres_vertices \u001b[39min\u001b[39;00m \u001b[39mself\u001b[39m\u001b[39m.\u001b[39m_vertices:\n\u001b[0;32m    118\u001b[0m             nombres_vertices\u001b[39m.\u001b[39mset_attribute(name,value)\n",
      "\u001b[1;31mAttributeError\u001b[0m: type object 'LinkedVertex' has no attribute '_attributes'"
     ]
    }
   ],
   "source": [
    "from clas_Linked import *\n",
    "from stackarray import *\n",
    "\n",
    "def DFS_iter(g:Graph(),v):   #BUSQUEDA EN PROFUNDIDAD USANDO PILA\n",
    "    g.set_vertices_attribute('color','WHITE')\n",
    "    \n",
    "    pila = Stack()\n",
    "    pila.push(v)\n",
    "    \n",
    "    while not pila.is_empty():    \n",
    "        pass\n",
    "    \n",
    "grafo = Graph()\n",
    "grafo.add_vertex('v0')\n",
    "DFS_iter(grafo,grafo._vertices['v0'])\n",
    "        \n",
    "    "
   ]
  }
 ],
 "metadata": {
  "kernelspec": {
   "display_name": "Python 3",
   "language": "python",
   "name": "python3"
  },
  "language_info": {
   "codemirror_mode": {
    "name": "ipython",
    "version": 3
   },
   "file_extension": ".py",
   "mimetype": "text/x-python",
   "name": "python",
   "nbconvert_exporter": "python",
   "pygments_lexer": "ipython3",
   "version": "3.10.10"
  },
  "orig_nbformat": 4
 },
 "nbformat": 4,
 "nbformat_minor": 2
}
