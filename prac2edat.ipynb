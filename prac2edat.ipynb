{
 "cells": [
  {
   "cell_type": "code",
   "execution_count": 13,
   "metadata": {},
   "outputs": [
    {
     "name": "stdout",
     "output_type": "stream",
     "text": [
      "6 1\n",
      "3 0\n",
      "1 1\n"
     ]
    },
    {
     "data": {
      "text/plain": [
       "'1011'"
      ]
     },
     "execution_count": 13,
     "metadata": {},
     "output_type": "execute_result"
    }
   ],
   "source": [
    "from stackarray import *\n",
    "####---EJERCICIO 7  \n",
    "#poner el caso error fuera de la recorsión\n",
    "\n",
    "def decimal_to_base_rec (num:int, base:int)->str:\n",
    "    \n",
    "    cociente,resto=divmod(num,base)\n",
    "    print(cociente,resto)\n",
    "    \n",
    "    if cociente >= base:\n",
    "        cambio_base=decimal_to_base_rec(cociente,base)  \n",
    "        #con cambio_base recibimos la secuencia de dígitos que hemos obtenido las recusiones anteriores que hemos finalizado\n",
    "        \n",
    "\n",
    "    else:\n",
    "        result=str(resto)+str(cociente) #empezamos a finalizar las funciones de la recursión\n",
    "        return result\n",
    "        \n",
    "    result=str(resto)+cambio_base\n",
    "    return result\n",
    "    \n",
    "decimal_to_base_rec(13,2)\n",
    "\n",
    "def from_prefix_to_infix (expr:str, oper=['+','-','*','/','^'])->str:\n",
    "    primer_caracter=expr[0]\n",
    "    resto_opr=expr[:1]\n",
    "    if primer_caracter not in oper:\n",
    "        return expr[0]+ultimo_operador+expr[1]\n",
    "        #\n",
    "    else:\n",
    "        "
   ]
  }
 ],
 "metadata": {
  "kernelspec": {
   "display_name": "Python 3",
   "language": "python",
   "name": "python3"
  },
  "language_info": {
   "codemirror_mode": {
    "name": "ipython",
    "version": 3
   },
   "file_extension": ".py",
   "mimetype": "text/x-python",
   "name": "python",
   "nbconvert_exporter": "python",
   "pygments_lexer": "ipython3",
   "version": "3.10.9"
  },
  "orig_nbformat": 4,
  "vscode": {
   "interpreter": {
    "hash": "2aafc0b35218c569f6f820bf5fc8b8708abacfd3d8ab40aaf90f6fd73f5e18cf"
   }
  }
 },
 "nbformat": 4,
 "nbformat_minor": 2
}
