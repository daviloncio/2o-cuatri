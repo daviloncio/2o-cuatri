{
 "cells": [
  {
   "cell_type": "code",
   "execution_count": 52,
   "metadata": {},
   "outputs": [
    {
     "name": "stdout",
     "output_type": "stream",
     "text": [
      "(A-B) 1\n",
      "((A-B)^C) 2\n",
      "(((A-B)^C)+C) 3\n",
      "3\n"
     ]
    },
    {
     "data": {
      "text/plain": [
       "('(((A-B)^C)+C)', 3)"
      ]
     },
     "execution_count": 52,
     "metadata": {},
     "output_type": "execute_result"
    }
   ],
   "source": [
    "from stackarray import *\n",
    "####---EJERCICIO 6\n",
    "#poner el caso error fuera de la recursión\n",
    "def from_prefix_to_infix(expr:str,oper=['+','-','*','/','^']):\n",
    "    \"\"\"esta función nos sirve básicamente para comprobar que lo que hemos obtenido es una expresión infijo.\n",
    "    De lo contrario, la expresión prefijo recibida no estaría bien formada y devolvemos error.\n",
    "    \n",
    "    Recibimos como parámetro la expresión que usará la otra función, donde haremos la recursión\n",
    "    (la comprobación está fuera de la recursión)\n",
    "    \n",
    "    La comprobación se basa en que el resultado final del index vienen a ser el número de operadores que nos\n",
    "    encontramos al principio de la expresión(hay que destacar que, si tenemos un operador que NO está en el principio, \n",
    "    volvemos a la recursión pero el index que finalmente se devuelve no le estamos sumando la unidad).Si el index coincide\n",
    "    con lo explicado significará que se ha ejecutado adecuadamente y que hemos metido una expresión prefija correcta.\"\"\"\n",
    "    \n",
    "\n",
    "    def from_prefix_to_infix_interno (expr:str, oper=['+','-','*','/','^'])->str:\n",
    "        primer_caracter=expr[0]  #en el caso base será siempre un operador\n",
    "        \n",
    "        resto_opr=expr[1:]\n",
    "        if primer_caracter not in oper:\n",
    "            index=0\n",
    "            empezamos_result=''\n",
    "            return empezamos_result,index\n",
    "        else:\n",
    "            build_expresion,index=from_prefix_to_infix_interno(resto_opr)\n",
    "            \n",
    "            if index == 0:  #es decir, si justo acabamos de encontrarnos con el caso excepción...\n",
    "                if resto_opr[1] in oper:\n",
    "                    pass\n",
    "                else:\n",
    "                    result='('+resto_opr[index]+primer_caracter+resto_opr[index+1]+')'\n",
    "                \n",
    "            else:\n",
    "                if resto_opr[index+2] in oper: #si volvemos a encontrarnos con un operador,volvemos a la recursión\n",
    "                    \n",
    "                    result=build_expresion+primer_caracter+from_prefix_to_infix_interno(resto_opr[index+2:])[0]\n",
    "                    \n",
    "                else:\n",
    "                    result='('+build_expresion+primer_caracter+resto_opr[index+2]+')'\n",
    "                    \n",
    "            index=index+1\n",
    "            print(result,index)\n",
    "            return result,index\n",
    "    result,index=from_prefix_to_infix_interno(expr)\n",
    "    operadores_principio = 0\n",
    "    for character in expr:\n",
    "        \n",
    "        if character in oper:  #observamos el numero de operadores que hay al principio, y de coincidir con index, se habrá recorrido una expresión prefija correcta\n",
    "            operadores_principio += 1  \n",
    "        else:\n",
    "            break\n",
    "    print(operadores_principio)\n",
    "    if index != operadores_principio:\n",
    "        \n",
    "        raise KeyError('se ha introducido una expresión prefijo inválida')\n",
    "    \n",
    "    return result,index\n",
    "            \n",
    "    \n",
    "from_prefix_to_infix('+^-ABCD') #como devulve una tupla,pedimos solo el 1er elemento"
   ]
  },
  {
   "cell_type": "code",
   "execution_count": 2,
   "metadata": {},
   "outputs": [],
   "source": [
    "\"\"\"La función recibe un número decimal entero y una base a la que pasaremos dicho número. Aplicamos recursión hasta que lo que nos quede e el cociente un número\n",
    "menor que en el resto, en cuyo caso empezaremos a formar el numero que buscamos.Vamos construyéndolo por sus cifras finaes hasta que se acaban ejecutando todas las funciones\n",
    "que se amontonaron en la pila por la recursión\"\"\"\n",
    "\n",
    "\n",
    "\n",
    "def decimal_to_base_rec (num:int, base:int)->str:\n",
    "    \n",
    "    \"\"\"\n",
    "    Test the decimal_to_base_rec function\n",
    "    >>> decimal_to_base_rec(19,2)\n",
    "    1100\n",
    "    >>> decimal_to_base_rec(7,5)\n",
    "    21\n",
    "    \"\"\"\n",
    "    \n",
    "    cociente,resto=divmod(num,base)\n",
    "    \n",
    "    if cociente >= base:\n",
    "        cambio_base=decimal_to_base_rec(cociente,base)  \n",
    "        #con cambio_base recibimos la secuencia de dígitos que hemos obtenido las recusiones anteriores que hemos finalizado\n",
    "        \n",
    "\n",
    "    else:\n",
    "        result=str(resto)+str(cociente) #empezamos a finalizar las funciones de la recursión\n",
    "        return result\n",
    "        \n",
    "    result=str(resto)+cambio_base\n",
    "    return result\n",
    "\n",
    "if __name__== \" __main__ \":\n",
    "    import doctest\n",
    "    doctest.testmod()\n",
    "    \n"
   ]
  },
  {
   "cell_type": "code",
   "execution_count": 48,
   "metadata": {},
   "outputs": [
    {
     "name": "stdout",
     "output_type": "stream",
     "text": [
      "mn*pq-+r+\n",
      "A  B+  C  D+*\n"
     ]
    }
   ],
   "source": [
    "from stackarray import *\n",
    "\"\"\"\n",
    "    Esta función recibe una expresión infija correcta y devuelve su correspondiente expresión sufija. \n",
    "    Recibe dos argumentos:\n",
    "        expr (str): Un string con la exxpresión infijo\n",
    "        oper (dict): Un diccionario con los tipos de operador permitidos, así como su \"peso\" que mas tarde servira para tener la expresión correctamente balanceada\n",
    "    Devuelve:\n",
    "        expresion_final (str): Devuelve la correspondiente expresion sufija en forma de string.\n",
    "\"\"\"\n",
    "def infix_to_sufix(expr,oper = ['+', '-', '*', '/', '(', ')', '^'] )->str:\n",
    "    \n",
    "    \"\"\"\n",
    "    Test the infix_to_sufix function\n",
    "    >>> infix_to_sufix((A + B) * (C + D)\")\n",
    "    A  B+  C  D+*\n",
    "    \"\"\"\n",
    "  \n",
    "    s=Stack()  \n",
    "    prioridad = {'+':1, '-':1, '*':2, '/':2, '^':3} \n",
    "    expresion_final = '' \n",
    "    for c in expr:\n",
    "        if c not in oper:   #si encuentra un número lo añade directamente a la expresión final \n",
    "\n",
    "            expresion_final+= c\n",
    "        elif c =='(':  \n",
    "\n",
    "            s.push('(')\n",
    "        elif c ==')':   #si encuentra un parentesis de cierre vacia la pila añadiendo los correspondientes operadores hasta encontrar su correspondiente apertura\n",
    "            while s  and s.top() != '(':\n",
    "\n",
    "                expresion_final+=s.pop()\n",
    "            s.pop()\n",
    "        else:   #cuando se encuentra con un operador, va añadiendo los distintos operadores en orden de prioridad\n",
    "            while s and s.top() !='(' and prioridad[c] <= prioridad[s.top()]:\n",
    "                expresion_final+=s.pop()\n",
    "            s.push(c)\n",
    "    while s:    #al final, vacía la pila, dentro de la cual solo quedan operadores, y los añade al final de la expresión en orden de llegada (LIFO)\n",
    "        expresion_final+=s.pop()\n",
    "    return expresion_final\n",
    "\n",
    "\n",
    "if __name__== \" __main__ \":\n",
    "    import doctest\n",
    "    doctest.testmod()\n",
    "  \n",
    "print (infix_to_sufix(\"(A + B) * (C + D)\"))\n",
    "print(infix_to_sufix(\"m*n+(p-q)+r\"))"
   ]
  }
 ],
 "metadata": {
  "kernelspec": {
   "display_name": "Python 3",
   "language": "python",
   "name": "python3"
  },
  "language_info": {
   "codemirror_mode": {
    "name": "ipython",
    "version": 3
   },
   "file_extension": ".py",
   "mimetype": "text/x-python",
   "name": "python",
   "nbconvert_exporter": "python",
   "pygments_lexer": "ipython3",
   "version": "3.10.10"
  },
  "orig_nbformat": 4,
  "vscode": {
   "interpreter": {
    "hash": "2aafc0b35218c569f6f820bf5fc8b8708abacfd3d8ab40aaf90f6fd73f5e18cf"
   }
  }
 },
 "nbformat": 4,
 "nbformat_minor": 2
}
