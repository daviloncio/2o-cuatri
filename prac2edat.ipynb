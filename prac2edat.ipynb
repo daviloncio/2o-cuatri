{
 "cells": [
  {
   "cell_type": "code",
   "execution_count": 32,
   "metadata": {},
   "outputs": [
    {
     "name": "stdout",
     "output_type": "stream",
     "text": [
      "6 1\n",
      "3 0\n",
      "1 1\n"
     ]
    },
    {
     "data": {
      "text/plain": [
       "('(((A-B)^c)+d)', 5)"
      ]
     },
     "execution_count": 32,
     "metadata": {},
     "output_type": "execute_result"
    }
   ],
   "source": [
    "from stackarray import *\n",
    "####---EJERCICIO 7  \n",
    "#poner el caso error fuera de la recorsión\n",
    "\n",
    "def decimal_to_base_rec (num:int, base:int)->str:\n",
    "    \n",
    "    cociente,resto=divmod(num,base)\n",
    "    print(cociente,resto)\n",
    "    \n",
    "    if cociente >= base:\n",
    "        cambio_base=decimal_to_base_rec(cociente,base)  \n",
    "        #con cambio_base recibimos la secuencia de dígitos que hemos obtenido las recusiones anteriores que hemos finalizado\n",
    "        \n",
    "\n",
    "    else:\n",
    "        result=str(resto)+str(cociente) #empezamos a finalizar las funciones de la recursión\n",
    "        return result\n",
    "        \n",
    "    result=str(resto)+cambio_base\n",
    "    return result\n",
    "    \n",
    "decimal_to_base_rec(13,2)\n",
    "\n",
    "def from_prefix_to_infix (expr:str, oper=['+','-','*','/','^'])->str:\n",
    "    primer_caracter=expr[0]  #en el caso abse será siempre un operador\n",
    "    \n",
    "    resto_opr=expr[1:]\n",
    "    if primer_caracter not in oper:\n",
    "        index=0\n",
    "        empezamos_result=''\n",
    "        return empezamos_result,index\n",
    "    else:\n",
    "        c,index=from_prefix_to_infix(resto_opr)\n",
    "        if index == 0:  #es decir, si esta es la función predecesora del caso excepsión...\n",
    "            result='('+c+resto_opr[index]+primer_caracter+resto_opr[index+1]+')'\n",
    "        else:\n",
    "            if resto_opr[index+2] in oper:#si volvemos a encontrarnos con un operador,volvemos a la recursión\n",
    "\n",
    "                result=c+primer_caracter+from_prefix_to_infix(resto_opr[index+2:])[0]\n",
    "                \n",
    "            else:\n",
    "                result='('+c+primer_caracter+resto_opr[index+2]+')'\n",
    "                index=index+1\n",
    "        index=index+1\n",
    "        \n",
    "        return result,index\n",
    "from_prefix_to_infix('+^-ABcd')"
   ]
  }
 ],
 "metadata": {
  "kernelspec": {
   "display_name": "Python 3",
   "language": "python",
   "name": "python3"
  },
  "language_info": {
   "codemirror_mode": {
    "name": "ipython",
    "version": 3
   },
   "file_extension": ".py",
   "mimetype": "text/x-python",
   "name": "python",
   "nbconvert_exporter": "python",
   "pygments_lexer": "ipython3",
   "version": "3.10.10"
  },
  "orig_nbformat": 4,
  "vscode": {
   "interpreter": {
    "hash": "2aafc0b35218c569f6f820bf5fc8b8708abacfd3d8ab40aaf90f6fd73f5e18cf"
   }
  }
 },
 "nbformat": 4,
 "nbformat_minor": 2
}
