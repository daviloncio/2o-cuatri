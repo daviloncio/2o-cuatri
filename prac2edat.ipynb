{
 "cells": [
  {
   "cell_type": "code",
   "execution_count": 2,
   "metadata": {},
   "outputs": [
    {
     "name": "stdout",
     "output_type": "stream",
     "text": [
      "1\n",
      "1\n",
      "2\n"
     ]
    },
    {
     "data": {
      "text/plain": [
       "'(A/B)-(c*r)'"
      ]
     },
     "execution_count": 2,
     "metadata": {},
     "output_type": "execute_result"
    }
   ],
   "source": [
    "from stackarray import *\n",
    "####---EJERCICIO 7  \n",
    "#poner el caso error fuera de la recursión\n",
    "def comprobación_infijo(expr:str):\n",
    "    \"\"\"esta función nos sirve básicamente para comprobar que lo que hemos obtenido es una expresión infijo.\n",
    "    De lo contrario, la expresión prefijo recibida no estaría bien formada y devolvemos error.\n",
    "    \n",
    "    Recibimos como parámetro la expresión que usará la otra función, donde haremos la recursión\n",
    "    (la comprobación está fuera de la recursión)\n",
    "    \n",
    "    La comprobación se basa en que si el index no tiene como valor final la posición del último elemento\n",
    "    de la expresión recibida, está mal\"\"\"\n",
    "\n",
    "    def from_prefix_to_infix (expr:str, oper=['+','-','*','/','^'])->str:\n",
    "        primer_caracter=expr[0]  #en el caso base será siempre un operador\n",
    "        \n",
    "        resto_opr=expr[1:]\n",
    "        if primer_caracter not in oper:\n",
    "            index=0\n",
    "            empezamos_result=''\n",
    "            return empezamos_result,index\n",
    "        else:\n",
    "            c,index=from_prefix_to_infix(resto_opr)\n",
    "            \n",
    "            if index == 0:  #es decir, si esta es la función predecesora del caso excepción...\n",
    "                result='('+c+resto_opr[index]+primer_caracter+resto_opr[index+1]+')'\n",
    "                \n",
    "            else:\n",
    "                if resto_opr[index+2] in oper:#si volvemos a encontrarnos con un operador,volvemos a la recursión\n",
    "\n",
    "                    result=c+primer_caracter+from_prefix_to_infix(resto_opr[index+2:])[0]\n",
    "                    \n",
    "                else:\n",
    "                    result='('+c+primer_caracter+resto_opr[index+2]+')'\n",
    "                    index=index+1\n",
    "            index=index+1\n",
    "            print(index)\n",
    "            return result,index\n",
    "    return from_prefix_to_infix('-/AB*cr')[0]\n",
    "    \n",
    "comprobación_infijo('-/AB*cr') #como devulve una tupla,pedimos solo el 1er elemento"
   ]
  },
  {
   "cell_type": "code",
   "execution_count": 7,
   "metadata": {},
   "outputs": [
    {
     "name": "stdout",
     "output_type": "stream",
     "text": [
      "9 1\n",
      "4 1\n",
      "2 0\n",
      "1 0\n"
     ]
    },
    {
     "data": {
      "text/plain": [
       "'11001'"
      ]
     },
     "execution_count": 7,
     "metadata": {},
     "output_type": "execute_result"
    }
   ],
   "source": [
    "def decimal_to_base_rec (num:int, base:int)->str:\n",
    "    \n",
    "    cociente,resto=divmod(num,base)\n",
    "    print(cociente,resto)\n",
    "    \n",
    "    if cociente >= base:\n",
    "        cambio_base=decimal_to_base_rec(cociente,base)  \n",
    "        #con cambio_base recibimos la secuencia de dígitos que hemos obtenido las recusiones anteriores que hemos finalizado\n",
    "        \n",
    "\n",
    "    else:\n",
    "        result=str(resto)+str(cociente) #empezamos a finalizar las funciones de la recursión\n",
    "        return result\n",
    "        \n",
    "    result=str(resto)+cambio_base\n",
    "    return result\n",
    "    \n",
    "decimal_to_base_rec(19,2)"
   ]
  }
 ],
 "metadata": {
  "kernelspec": {
   "display_name": "Python 3",
   "language": "python",
   "name": "python3"
  },
  "language_info": {
   "codemirror_mode": {
    "name": "ipython",
    "version": 3
   },
   "file_extension": ".py",
   "mimetype": "text/x-python",
   "name": "python",
   "nbconvert_exporter": "python",
   "pygments_lexer": "ipython3",
   "version": "3.10.10"
  },
  "orig_nbformat": 4,
  "vscode": {
   "interpreter": {
    "hash": "2aafc0b35218c569f6f820bf5fc8b8708abacfd3d8ab40aaf90f6fd73f5e18cf"
   }
  }
 },
 "nbformat": 4,
 "nbformat_minor": 2
}
