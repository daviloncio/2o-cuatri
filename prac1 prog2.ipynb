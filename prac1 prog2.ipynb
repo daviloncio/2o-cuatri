{
 "cells": [
  {
   "cell_type": "code",
   "execution_count": null,
   "metadata": {},
   "outputs": [],
   "source": [
    "class CelulaInversorBinario():\n",
    "    def __init__(self,estado:int) -> None:\n",
    "        self.estado=estado\n",
    "    def cambio_de_estado(self):\n",
    "        if self.estado ==1:\n",
    "            self.estado = 0\n",
    "        else:\n",
    "            self.estado = 1\n",
    "    def devolver_estado(self):\n",
    "        return self.estado\n",
    "    \n",
    "    \n",
    "            \n",
    "            \n",
    "\n",
    "\n",
    "\n",
    "\n",
    "class CelulaSumInvBinario:\n",
    "     pass"
   ]
  }
 ],
 "metadata": {
  "kernelspec": {
   "display_name": "Python 3",
   "language": "python",
   "name": "python3"
  },
  "language_info": {
   "name": "python",
<<<<<<< HEAD
   "version": "3.10.9"
=======
   "version": "3.10.10"
>>>>>>> 5ce4bb7174cd37330aefb8c400b63bb57e64acf7
  },
  "orig_nbformat": 4,
  "vscode": {
   "interpreter": {
    "hash": "2aafc0b35218c569f6f820bf5fc8b8708abacfd3d8ab40aaf90f6fd73f5e18cf"
   }
  }
 },
 "nbformat": 4,
 "nbformat_minor": 2
}
