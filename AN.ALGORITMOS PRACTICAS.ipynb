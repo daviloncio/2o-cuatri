{
 "cells": [
  {
   "cell_type": "code",
   "execution_count": 5,
   "metadata": {},
   "outputs": [
    {
     "data": {
      "text/plain": [
       "0.13517440000009628"
      ]
     },
     "execution_count": 5,
     "metadata": {},
     "output_type": "execute_result"
    }
   ],
   "source": [
    "import timeit \n",
    "timeit.timeit('\"-\".join(str(n) for n in range(100))', number=10000)"
   ]
  },
  {
   "cell_type": "code",
   "execution_count": 9,
   "metadata": {},
   "outputs": [
    {
     "ename": "IndentationError",
     "evalue": "expected an indented block after 'for' statement on line 30 (4281473643.py, line 31)",
     "output_type": "error",
     "traceback": [
      "\u001b[1;36m  Cell \u001b[1;32mIn[9], line 31\u001b[1;36m\u001b[0m\n\u001b[1;33m    dim = 10+i\u001b[0m\n\u001b[1;37m    ^\u001b[0m\n\u001b[1;31mIndentationError\u001b[0m\u001b[1;31m:\u001b[0m expected an indented block after 'for' statement on line 30\n"
     ]
    },
    {
     "ename": "",
     "evalue": "",
     "output_type": "error",
     "traceback": [
      "\u001b[1;31mEl Kernel se bloqueó al ejecutar código en la celda actual o en una celda anterior. Revise el código de las celdas para identificar una posible causa del error. Haga clic <a href='https://aka.ms/vscodeJupyterKernelCrash'>aquí</a> para obtener más información. Vea el [registro] de Jupyter (command:jupyter.viewOutput) para obtener más detalles."
     ]
    }
   ],
   "source": [
    "import timeit\n",
    "import numpy as np\n",
    "def multiplicar(a:np.array,b:np.array):\n",
    "    def multiplicar_listas(l1,l2):\n",
    "        a_sumar=[]\n",
    "        for i in range(len(l1)):\n",
    "            a_sumar.append(l1[i]*l2[i])\n",
    "        return sum(a_sumar)\n",
    "    filas_a,columnas_a=np.shape(a)\n",
    "    filas_b,columnas_b=np.shape(b)\n",
    "   \n",
    "    if columnas_a!=columnas_b:\n",
    "        raise KeyError('las matrices no se pueden multiplicar')\n",
    "    l=[]\n",
    "    for x in range(filas_a):\n",
    "        l.append([])\n",
    "    for i in range(filas_a):  #por cada fila de a hay una columna de b SIEMPRE,sino no podríamos multiplicar las matrices\n",
    "        for e in range(columnas_b):\n",
    "            l[i].append(multiplicar_listas(a[i],b[:,e]))\n",
    "    return np.array(l)\n",
    "            \n",
    "a=np.array([[2,3,2],[1,0,5],[4,2,1]])\n",
    "b=np.array([[2,4,0],[2,3,0],[1,3,5]])\n",
    "%timeit multiplicar(a,b)\n",
    "\n",
    "\n",
    "\n",
    "l_dims = []\n",
    "l_timings = []\n",
    "for i in range(11):\n",
    "dim = 10+i\n",
    "#m debe contener una matriz aleatoria dim x dim\n",
    "m = ...\n",
    "timings = %timeit -o -n 10 -r 5 -q multiplicar(m, m)\n",
    "l_timings.append(timings.best)\n",
    "\n",
    "        \n",
    "        \n"
   ]
  },
  {
   "cell_type": "code",
   "execution_count": 3,
   "metadata": {},
   "outputs": [
    {
     "data": {
      "text/plain": [
       "8"
      ]
     },
     "execution_count": 3,
     "metadata": {},
     "output_type": "execute_result"
    }
   ],
   "source": [
    "def multiplicar_listas(l1,l2):\n",
    "    a_sumar=[]\n",
    "    for i in range(len(l1)):\n",
    "        a_sumar.append(l1[i]*l2[i])\n",
    "    return sum(a_sumar)\n",
    "multiplicar_listas([1,2],[2,3])"
   ]
  },
  {
   "cell_type": "code",
   "execution_count": 2,
   "metadata": {},
   "outputs": [
    {
     "data": {
      "text/plain": [
       "6"
      ]
     },
     "execution_count": 2,
     "metadata": {},
     "output_type": "execute_result"
    }
   ],
   "source": [
    "\n",
    "class Punto2D:\n",
    "    def __init__(self,x,y):\n",
    "        self.x=x\n",
    "        self.y=y\n",
    "        \n",
    "class Recta2D:\n",
    "    def __init__(self,var1:Punto2D or int,var2:Punto2D or int,var3=None):\n",
    "        if var3==None: \n",
    "    def __str__(self):\n",
    "        return f'Recta({})'\n",
    "            \n",
    "        \n",
    "    \n",
    "print(f\"La interseccion de la recta: {r1} y \\n de la recta: {r2} es el punto: {r1.interseccion(r2)}\")\n",
    "\n",
    "\n",
    "        "
   ]
  }
 ],
 "metadata": {
  "kernelspec": {
   "display_name": "Python 3",
   "language": "python",
   "name": "python3"
  },
  "language_info": {
   "codemirror_mode": {
    "name": "ipython",
    "version": 3
   },
   "file_extension": ".py",
   "mimetype": "text/x-python",
   "name": "python",
   "nbconvert_exporter": "python",
   "pygments_lexer": "ipython3",
   "version": "3.10.10"
  },
  "orig_nbformat": 4,
  "vscode": {
   "interpreter": {
    "hash": "2aafc0b35218c569f6f820bf5fc8b8708abacfd3d8ab40aaf90f6fd73f5e18cf"
   }
  }
 },
 "nbformat": 4,
 "nbformat_minor": 2
}
