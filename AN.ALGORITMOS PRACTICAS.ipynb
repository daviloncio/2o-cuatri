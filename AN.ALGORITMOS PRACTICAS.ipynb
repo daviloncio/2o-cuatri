{
 "cells": [
  {
   "cell_type": "code",
   "execution_count": 5,
   "metadata": {},
   "outputs": [
    {
     "data": {
      "text/plain": [
       "0.13517440000009628"
      ]
     },
     "execution_count": 5,
     "metadata": {},
     "output_type": "execute_result"
    }
   ],
   "source": [
    "import timeit \n",
    "timeit.timeit('\"-\".join(str(n) for n in range(100))', number=10000)"
   ]
  },
  {
   "cell_type": "code",
   "execution_count": 6,
   "metadata": {},
   "outputs": [
    {
     "name": "stdout",
     "output_type": "stream",
     "text": [
      "51.5 µs ± 10.7 µs per loop (mean ± std. dev. of 7 runs, 10,000 loops each)\n"
     ]
    }
   ],
   "source": [
    "import timeit\n",
    "import numpy as np\n",
    "def multiplicar(a:np.array,b:np.array):\n",
    "    def multiplicar_listas(l1,l2):\n",
    "        a_sumar=[]\n",
    "        for i in range(len(l1)):\n",
    "            a_sumar.append(l1[i]*l2[i])\n",
    "        return sum(a_sumar)\n",
    "    filas_a,columnas_a=np.shape(a)\n",
    "    filas_b,columnas_b=np.shape(b)\n",
    "   \n",
    "    if columnas_a!=columnas_b:\n",
    "        raise KeyError('las matrices no se pueden multiplicar')\n",
    "    l=[]\n",
    "    for x in range(filas_a):\n",
    "        l.append([])\n",
    "    for i in range(filas_a):  #por cada fila de a hay una columna de b SIEMPRE,sino no podríamos multiplicar las matrices\n",
    "        for e in range(columnas_b):\n",
    "            l[i].append(multiplicar_listas(a[i],b[:,e]))\n",
    "    return np.array(l)\n",
    "            \n",
    "a=np.array([[2,3,2],[1,0,5],[4,2,1]])\n",
    "b=np.array([[2,4,0],[2,3,0],[1,3,5]])\n",
    "\n",
    "%timeit multiplicar(a,b)\n",
    "\n",
    "\n",
    "\n",
    "l_dims = []\n",
    "l_timings = []\n",
    "for i in range(11):\n",
    "    dim = 10+i\n",
    "    #m debe contener una matriz aleatoria dim x dim\n",
    "    m = np.random.uniform(0,1,(dim,dim))\n",
    "    timings = %timeit -o -n 10 -r 5 -q multiplicar(m, m)\n",
    "    l_timings.append(timings.best)\n",
    "    \n",
    "\n",
    "        \n",
    "        \n"
   ]
  },
  {
   "cell_type": "code",
   "execution_count": 5,
   "metadata": {},
   "outputs": [
    {
     "name": "stdout",
     "output_type": "stream",
     "text": [
      "23.3 µs ± 4.49 µs per loop (mean ± std. dev. of 7 runs, 10,000 loops each)\n",
      "[0.00037641999952029435, 0.0006668900023214519, 0.0009499100007815287, 0.0016225400002440437, 0.003469060000497848, 0.0030019400001037866, 0.003796340001281351, 0.004990049998741597, 0.006907300002058037, 0.007964410001295618, 0.009950440001557582]\n",
      "[<matplotlib.lines.Line2D object at 0x0000025091DBB6A0>]\n"
     ]
    },
    {
     "data": {
      "image/png": "[encoded data removed]",
      "text/plain": [
       "<Figure size 640x480 with 1 Axes>"
      ]
     },
     "metadata": {},
     "output_type": "display_data"
    }
   ],
   "source": [
    "import timeit\n",
    "import time\n",
    "import numpy as np\n",
    "import matplotlib \n",
    "from matplotlib import pyplot as plt\n",
    "def multiplicar(a:np.array,b:np.array):\n",
    "    def multiplicar_listas(l1,l2):\n",
    "        a_sumar=[]\n",
    "        for i in range(len(l1)):\n",
    "            a_sumar.append(l1[i]*l2[i])\n",
    "        return sum(a_sumar)\n",
    "    filas_a,columnas_a=np.shape(a)\n",
    "    filas_b,columnas_b=np.shape(b)\n",
    "   \n",
    "    if columnas_a!=columnas_b:\n",
    "        raise KeyError('las matrices no se pueden multiplicar')\n",
    "    l=[]\n",
    "    for x in range(filas_a):\n",
    "        l.append([])\n",
    "    for i in range(filas_a):  #por cada fila de a hay una columna de b SIEMPRE,sino no podríamos multiplicar las matrices\n",
    "        for e in range(columnas_b):\n",
    "            l[i].append(multiplicar_listas(a[i],b[:,e]))\n",
    "    return np.array(l)\n",
    "            \n",
    "a=np.array([[2,3,2],[1,0,5],[4,2,1]])\n",
    "b=np.array([[2,4,0],[2,3,0],[1,3,5]])\n",
    "\n",
    "%timeit multiplicar(a,b)\n",
    "\n",
    "\n",
    "\n",
    "l_dims = []\n",
    "l_timings = []\n",
    "for i in range(11):\n",
    "    dim = 10+2*i\n",
    "    #m debe contener una matriz aleatoria dim x dim\n",
    "    m = np.random.uniform(0,1,(dim,dim))\n",
    "    timings = %timeit -o -n 10 -r 5 -q multiplicar(m, m)\n",
    "    l_timings.append(timings.best)\n",
    "    \n",
    "print(l_timings)#a continuación voy a crear una lista con las dimensiones de las distintas matrices \n",
    "#que se construyen para luego poder hacer una gráfica \n",
    "l_dims=[]\n",
    "for i in range(10,21):\n",
    "    l_dims.append(f'{3*i}x{3*i}')  #para que nos quede una gráfica que en todas las ejecuciones sea semejante,\n",
    "    #lo que hacemos es aumentar la dimensión de las matrices de 3 en 3\n",
    "    \n",
    "print(plt.plot(l_dims,l_timings))\n",
    "\n",
    "\n"
   ]
  },
  {
   "cell_type": "code",
   "execution_count": 2,
   "metadata": {},
   "outputs": [
    {
     "data": {
      "text/plain": [
       "6"
      ]
     },
     "execution_count": 2,
     "metadata": {},
     "output_type": "execute_result"
    }
   ],
   "source": [
    "\n",
    "class Punto2D:\n",
    "    def __init__(self,x,y):\n",
    "        self.x=x\n",
    "        self.y=y\n",
    "        \n",
    "class Recta2D:\n",
    "    def __init__(self,var1:Punto2D or int,var2:Punto2D or int,var3=None):\n",
    "        if var3==None: \n",
    "    def __str__(self):\n",
    "        return f'Recta({})'\n",
    "            \n",
    "        \n",
    "    \n",
    "print(f\"La interseccion de la recta: {r1} y \\n de la recta: {r2} es el punto: {r1.interseccion(r2)}\")\n",
    "\n",
    "\n",
    "        "
   ]
  }
 ],
 "metadata": {
  "kernelspec": {
   "display_name": "Python 3",
   "language": "python",
   "name": "python3"
  },
  "language_info": {
   "codemirror_mode": {
    "name": "ipython",
    "version": 3
   },
   "file_extension": ".py",
   "mimetype": "text/x-python",
   "name": "python",
   "nbconvert_exporter": "python",
   "pygments_lexer": "ipython3",
   "version": "3.10.9"
  },
  "orig_nbformat": 4,
  "vscode": {
   "interpreter": {
    "hash": "2aafc0b35218c569f6f820bf5fc8b8708abacfd3d8ab40aaf90f6fd73f5e18cf"
   }
  }
 },
 "nbformat": 4,
 "nbformat_minor": 2
}
