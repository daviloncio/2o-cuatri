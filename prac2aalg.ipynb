{
 "cells": [
  {
   "cell_type": "code",
   "execution_count": 4,
   "metadata": {},
   "outputs": [],
   "source": [
    "# II-A: QuickSort sobre listas\n",
    "# II-A.1: Split básico de listas\n",
    "def split(t: list)-> list:\n",
    "    \"\"\" \n",
    "    Recibe una lista de números y la divide en dos listas. Los elementos en l_left son menores que el pivote y los elementos en l_right mayores.\n",
    "\n",
    "    Args:\n",
    "        t (list): Recibe una lista de números sin repetición para ser dividida\n",
    "\n",
    "    Returns:\n",
    "        pivot(int) : El número que usa como pivote (t[0]) \n",
    "        l_left and l_right(lists): Las dos listas ya divididas\n",
    "    \"\"\"\n",
    "    pivot= t[0]\n",
    "    l_left = []\n",
    "    l_right = []\n",
    "    \n",
    "    for element in t[1:]:\n",
    "        if element < pivot:  #no puede haber elementos repetidos\n",
    "            l_left.append(element)\n",
    "        else:\n",
    "            l_right.append(element)\n",
    "            \n",
    "    return l_left,pivot,l_right\n",
    "    \n"
   ]
  },
  {
   "cell_type": "code",
   "execution_count": 5,
   "metadata": {},
   "outputs": [
    {
     "name": "stdout",
     "output_type": "stream",
     "text": [
      "[0, 1, 2, 3, 4, 5]\n"
     ]
    }
   ],
   "source": [
    "# II-A.2: QuickSort en python sobre la lista t\n",
    "def qs(t: list)-> list:\n",
    "    \"\"\"con recursión, vamos llamando numerosas veces a esya función hasta tener listas con un solo elemento \n",
    "\n",
    "    Args:\n",
    "        t (list):Lista de números sin repetición\n",
    "\n",
    "    Returns:\n",
    "        list: lista de numeros ordenada\n",
    "    \"\"\"\n",
    "\n",
    "    if t == []:\n",
    "        return t\n",
    "    else:\n",
    "        t_left, pivot, t_right = split(t)\n",
    "        \n",
    "        if len(t_left) > 1:\n",
    "            \n",
    "            t_left = qs(t_left)\n",
    "        \n",
    "        if len(t_right) > 1:\n",
    "            \n",
    "            t_right = qs(t_right)\n",
    "        \n",
    "        \n",
    "        return t_left + [pivot] + t_right\n",
    "    \n",
    "\n",
    "\n",
    "print(qs([2,1,5,4,3,0]))\n",
    "\n",
    "        \n"
   ]
  },
  {
   "cell_type": "code",
   "execution_count": 6,
   "metadata": {},
   "outputs": [
    {
     "name": "stdout",
     "output_type": "stream",
     "text": [
      "[0, 1, 2, 3, 4, 5]\n"
     ]
    }
   ],
   "source": [
    "# II-A.2: QuickSort en python sobre la lista t\n",
    "def qs(t: list)-> list:\n",
    "    \"\"\"con recursión, vamos llamando numerosas veces a esya función hasta tener listas con un solo elemento \n",
    "\n",
    "    Args:\n",
    "        t (list):Lista de números sin repetición\n",
    "\n",
    "    Returns:\n",
    "        list: lista de numeros ordenada\n",
    "    \"\"\"\n",
    "\n",
    "    if t == []:\n",
    "        return t\n",
    "    else:\n",
    "        t_left, pivot, t_right = split(t)\n",
    "        \n",
    "        if len(t_left) > 1:\n",
    "            \n",
    "            t_left = qs(t_left)\n",
    "        \n",
    "        if len(t_right) > 1:\n",
    "            \n",
    "            t_right = qs(t_right)\n",
    "        \n",
    "        \n",
    "        return t_left + [pivot] + t_right\n",
    "    \n",
    "\n",
    "\n",
    "print(qs([2,1,5,4,3,0]))\n",
    "\n",
    "        \n"
   ]
  },
  {
   "cell_type": "code",
   "execution_count": 7,
   "metadata": {},
   "outputs": [
    {
     "name": "stdout",
     "output_type": "stream",
     "text": [
      "[0, 1, 2, 3, 4, 5]\n"
     ]
    }
   ],
   "source": [
    "# II-A.2: QuickSort en python sobre la lista t\n",
    "def qs(t: list)-> list:\n",
    "    \"\"\"con recursión, vamos llamando numerosas veces a esya función hasta tener listas con un solo elemento \n",
    "\n",
    "    Args:\n",
    "        t (list):Lista de números sin repetición\n",
    "\n",
    "    Returns:\n",
    "        list: lista de numeros ordenada\n",
    "    \"\"\"\n",
    "\n",
    "    if t == []:\n",
    "        return t\n",
    "    else:\n",
    "        t_left, pivot, t_right = split(t)\n",
    "        \n",
    "        if len(t_left) > 1:\n",
    "            \n",
    "            t_left = qs(t_left)\n",
    "        \n",
    "        if len(t_right) > 1:\n",
    "            \n",
    "            t_right = qs(t_right)\n",
    "        \n",
    "        \n",
    "        return t_left + [pivot] + t_right\n",
    "    \n",
    "\n",
    "\n",
    "print(qs([2,1,5,4,3,0]))\n",
    "\n",
    "        \n"
   ]
  },
  {
   "attachments": {},
   "cell_type": "markdown",
   "metadata": {},
   "source": [
    "II-B. QuickSort in place sobre arrays de NumPy\n",
    "Vamos a mejorar nuestra version anterior de QuickSort para que trabaje con arrays de NumPy de manera in place. ´\n",
    "1. Escribir una funcion´\n",
    "split_ip(t: np.ndarray, f: int, l: int)\n",
    "que distribuye los elementos de t entre los ´ındices f incluido y l excluido, a la izquierda y derecha del elemento t[f]\n",
    "y devuelve el indice ocupado finalmente por el elemento que estaba incialmente en f.\n",
    "La funcion debe ser ´ in place, esto es, usar solo el array t y ningun otro array o lista auxiliar. Naturalmente, tampoco ´\n",
    "debe devolver nada.\n"
   ]
  },
  {
   "cell_type": "code",
   "execution_count": 13,
   "metadata": {},
   "outputs": [
    {
     "data": {
      "text/plain": [
       "(1, [1, 2, 3, 4, 5, 8, 9, 11])"
      ]
     },
     "execution_count": 13,
     "metadata": {},
     "output_type": "execute_result"
    }
   ],
   "source": [
    "# II-B: QuickSort sobre arrays de NumPy\n",
    "# II-B.1: Split para array NumPy\n",
    "import numpy as np\n",
    "def split_ip(t: np.ndarray, f: int, l: int):\n",
    "    if f>l:\n",
    "        raise TypeError(\"F no puede ser mayor que L\")\n",
    "    if l > len(t):\n",
    "        raise TypeError(\"L no puede ser mayor que la longitud del array\")\n",
    "    else:\n",
    "        m = 0\n",
    "        for i in range(f,l):\n",
    "            if t[i] < t[f]:\n",
    "                m += 1\n",
    "                t[i], t[m+f] = t[m+f], t[i]\n",
    "        t[f], t[m+f] = t[m+f], t[f]\n",
    "        return m,t\n",
    "\n",
    "list=[1, 2, 3, 4, 8, 5, 9, 11]\n",
    "\n",
    "split_ip(list,4,8)\n",
    "    \n",
    "    \n",
    "    \n"
   ]
  },
  {
   "attachments": {},
   "cell_type": "markdown",
   "metadata": {},
   "source": [
    "2. Escribe una funcion´\n",
    "qs_ip(t: np.ndarray, f: int, l: int):\n",
    "que implementa QuickSort para ordenar un array t entre los ´ındices f incluido y l excluido usando la funcion´ split_ip\n",
    "anterior.\n",
    "De nuevo, la funcion debe ser in place, esto es, usar solo el array ´ t y ningun otro array o lista auxiliar"
   ]
  },
  {
   "cell_type": "code",
   "execution_count": 16,
   "metadata": {},
   "outputs": [
    {
     "name": "stdout",
     "output_type": "stream",
     "text": [
      "[4, 8, 3, 1, 2, 5, 9, 11]\n"
     ]
    }
   ],
   "source": [
    "import numpy as np\n",
    "\n",
    "\n",
    "def qs_ip(t: np.ndarray, f: int, l: int):\n",
    "    if t == []:\n",
    "        return t\n",
    "    if f>l:\n",
    "        raise TypeError(\"F no puede ser mayor que L\")\n",
    "    if l > len(t):\n",
    "        raise TypeError(\"L no puede ser mayor que la longitud del array\")\n",
    "    else:\n",
    "        for e in range(f,l):\n",
    "            split_ip(t,e,l)\n",
    "\n",
    "            #cambiar usando la m la posicion requerida\n",
    "        \n",
    "        return t\n",
    "    \n",
    "\n",
    "\n",
    "print(qs_ip([4,8,3,5,2,1,9,11],3,6))\n"
   ]
  },
  {
   "attachments": {},
   "cell_type": "markdown",
   "metadata": {},
   "source": [
    "II-C. Midiendo tiempos de ejecucion en QuickSort\n",
    "\n",
    "1. Escribe una funcion´\n",
    "time_quicksort(n_permutations: int, size_ini: int, size_fin: int, step: int)-> List\n",
    "que devuelva una lista con los tiempos medios empleados por QuickSort en cada paso de las ejecuciones sobre\n",
    "n_permutations permutaciones de tamanos entre ˜ size_ini y size_fin, que se se van incrementando en tamanos ˜ step.\n",
    "Esto es, para tamanos de permutaci ˜ on entre ´ size_ini y size_fin con incrementos step\n",
    "\n",
    "a) Generar n_permutations permutaciones aleatorias mediante el metodo Numpy adecuado.\n",
    "\n",
    "b) Ordenarlas mediante QuickSort midiendo el tiempo de ejecucion con el m ´ etodo ´ time.\n",
    "\n",
    "c) Calcular la media de los tiempos de ejecucion y a ´ nadirlos a la lista correspondiente. "
   ]
  },
  {
   "cell_type": "code",
   "execution_count": 27,
   "metadata": {},
   "outputs": [
    {
     "name": "stderr",
     "output_type": "stream",
     "text": [
      "C:\\Users\\juanj\\AppData\\Local\\Temp\\ipykernel_15308\\1560095696.py:12: DeprecationWarning: The truth value of an empty array is ambiguous. Returning False, but in future this will result in an error. Use `array.size > 0` to check that an array is not empty.\n",
      "  if t == []:\n",
      "C:\\Users\\juanj\\AppData\\Local\\Temp\\ipykernel_15308\\1560095696.py:12: DeprecationWarning: elementwise comparison failed; this will raise an error in the future.\n",
      "  if t == []:\n"
     ]
    },
    {
     "name": "stdout",
     "output_type": "stream",
     "text": [
      "[9.968280792236329e-06, 9.963512420654297e-06, 9.973049163818359e-06, 9.968280792236329e-06, 1.9941329956054688e-05, 0.0, 1.9946098327636718e-05, 9.984970092773438e-06, 1.9941329956054688e-05, 0.0, 1.993894577026367e-05, 1.995086669921875e-05, 1.9941329956054688e-05, 9.975433349609376e-06, 2.9883384704589845e-05, 1.9948482513427735e-05, 2.9916763305664063e-05, 0.0, 2.9921531677246094e-05, 1.9943714141845704e-05, 2.992391586303711e-05, 1.995086669921875e-05, 2.0227432250976563e-05, 9.973049163818359e-06, 2.9654502868652343e-05, 1.9941329956054688e-05, 3.0186176300048828e-05, 1.996278762817383e-05, 2.9914379119873047e-05, 1.026153564453125e-05, 2.9921531677246094e-05, 2.9950141906738282e-05, 3.985881805419922e-05, 2.9635429382324218e-05, 4.019021987915039e-05, 4.9586296081542966e-05, 3.0167102813720703e-05, 1.9941329956054688e-05, 3.9894580841064456e-05, 3.993511199951172e-05, 3.985166549682617e-05, 2.9630661010742188e-05, 4.98652458190918e-05, 2.9919147491455077e-05, 3.988981246948242e-05, 3.9892196655273436e-05, 3.9892196655273436e-05, 3.9892196655273436e-05, 5.9838294982910154e-05, 2.9916763305664063e-05, 6.011009216308594e-05, 1.9986629486083984e-05, 4.98652458190918e-05, 5.9862136840820315e-05, 5.9545040130615234e-05, 3.989696502685547e-05, 4.986763000488281e-05, 4.98652458190918e-05, 6.981372833251953e-05, 2.9921531677246094e-05, 4.9870014190673825e-05, 4.9586296081542966e-05, 6.98232650756836e-05, 6.980657577514649e-05, 6.982088088989258e-05, 5.987405776977539e-05, 6.978034973144531e-05, 6.981849670410156e-05, 4.980325698852539e-05, 6.980657577514649e-05, 6.981849670410156e-05, 6.982088088989258e-05, 6.982564926147461e-05, 5.955219268798828e-05, 5.986928939819336e-05, 6.0107707977294925e-05, 7.976531982421875e-05, 5.954742431640625e-05, 5.983114242553711e-05, 7.982730865478515e-05, 8.972406387329101e-05, 4.953384399414062e-05, 6.984472274780273e-05, 7.978439331054687e-05, 5.9840679168701174e-05, 6.980657577514649e-05, 9.5367431640625e-05, 6.981611251831054e-05, 7.977485656738282e-05, 8.973121643066407e-05, 7.963418960571289e-05, 8.976459503173828e-05, 9.97471809387207e-05, 8.976936340332031e-05, 6.979942321777344e-05, 8.975982666015625e-05, 8.50820541381836e-05, 0.0001000380516052246, 7.979869842529297e-05]\n"
     ]
    }
   ],
   "source": [
    "import time\n",
    "import numpy as np\n",
    "\n",
    "def time_quicksort(n_permutations: int, size_ini: int, size_fin: int, step: int)-> list:\n",
    "    \n",
    "    list_tiempos_medias = []\n",
    "    tamaño_array = []\n",
    "    \n",
    "    for e in range(size_ini,size_fin,step):\n",
    "        \n",
    "        tamaño_array.append(e)\n",
    "        hacer_media_tiempos = []\n",
    "        for i in range(n_permutations):\n",
    "            \n",
    "            creamos_permutación = np.random.permutation(tamaño_array)  \n",
    "            inicio=time.time()\n",
    "            qs(creamos_permutación)\n",
    "            fin = time.time()\n",
    "            tiempo_ejecucion = fin - inicio\n",
    "            hacer_media_tiempos.append(tiempo_ejecucion)\n",
    "    \n",
    "        result = sum(hacer_media_tiempos)/n_permutations\n",
    "        list_tiempos_medias.append(result)\n",
    "        \n",
    "    return list_tiempos_medias\n",
    "print(time_quicksort(100,1,100,1))    "
   ]
  },
  {
   "attachments": {},
   "cell_type": "markdown",
   "metadata": {},
   "source": [
    "II-D. Cuestiones\n",
    "1. Sabemos que en el caso medio el coste de QuickSort es O(N log N). Utilizando las funciones anteriores, estimar\n",
    "experimentalmente ese coste medio para diversos tamanos de tabla y comprobar graficamente que se ajustan al coste\n",
    "medio esperado.\n",
    "2. Si aplicamos nuestra funcion´ split a la tabla ordenada [1, 2, ..., N] tomando como pivote el primer elemento, ¿que´\n",
    "subtablas obtendremos?\n",
    "3. Argumentar a partir de lo anterior que el coste en el caso peor de QuickSort es al menos N(N−1)/2\n",
    ".\n"
   ]
  },
  {
   "attachments": {},
   "cell_type": "markdown",
   "metadata": {},
   "source": [
    "III-A. Max heaps sobre arrays de Numpy\n",
    "\n",
    "Vamos a implementar sobre arrays de Numpy diversas funciones de trabajo con max heaps. Para ello supondremos que un\n",
    "max heap vac´ıo se representa como None.\n",
    "\n",
    "1. Escribir una funcion´\n",
    "max_heapify(h: np.ndarray, i: int)\n",
    "que reciba un array h de Numpy y aplique la operacion de heapify al elemento situado en la posici ´ on´ i de manera in\n",
    "place.\n"
   ]
  },
  {
   "cell_type": "code",
   "execution_count": null,
   "metadata": {},
   "outputs": [],
   "source": []
  },
  {
   "attachments": {},
   "cell_type": "markdown",
   "metadata": {},
   "source": [
    "2. En ocasiones queremos insertar un nuevo elemento en un max heap existente de manera que se tenga un nuevo max\n",
    "heap. Escribir una funcion\n",
    "\n",
    "insert_maxheap(h: np.ndarray, k: int)-> np.ndarray\n",
    "\n",
    "que inserte el entero k al final del array h que contiene el max heap y, a continuacion, transforme el array ampliado en ´\n",
    "un nuevo max heap y lo devuelva"
   ]
  },
  {
   "cell_type": "code",
   "execution_count": null,
   "metadata": {},
   "outputs": [],
   "source": []
  },
  {
   "attachments": {},
   "cell_type": "markdown",
   "metadata": {},
   "source": [
    "3. En otras ocasiones lo que se desea es transformar un array en un max heap de manera in-place. Escribir una funcion\n",
    "\n",
    "create_maxheap(h: np.ndarray)\n",
    "\n",
    "que cree un max heap sobre el array de Numpy pasado como argumento. Se recuerda que esta creacion debe hacerse ´\n",
    "in-place, esto es, sobre el propio array sin usar ningun otro auxiliar (y sin devolver nada). "
   ]
  },
  {
   "cell_type": "code",
   "execution_count": null,
   "metadata": {},
   "outputs": [],
   "source": []
  },
  {
   "cell_type": "markdown",
   "metadata": {},
   "source": []
  }
 ],
 "metadata": {
  "kernelspec": {
   "display_name": "Python 3",
   "language": "python",
   "name": "python3"
  },
  "language_info": {
   "codemirror_mode": {
    "name": "ipython",
    "version": 3
   },
   "file_extension": ".py",
   "mimetype": "text/x-python",
   "name": "python",
   "nbconvert_exporter": "python",
   "pygments_lexer": "ipython3",
   "version": "3.10.10"
  },
  "orig_nbformat": 4
 },
 "nbformat": 4,
 "nbformat_minor": 2
}
