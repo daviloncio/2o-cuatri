{
 "cells": [
  {
   "cell_type": "code",
   "execution_count": 4,
   "metadata": {},
   "outputs": [],
   "source": [
    "# II-A: QuickSort sobre listas\n",
    "# II-A.1: Split básico de listas\n",
    "def split(t: list)-> list:\n",
    "    \"\"\" \n",
    "    Recibe una lista de números y la divide en dos listas. Los elementos en l_left son menores que el pivote y los elementos en l_right mayores.\n",
    "\n",
    "    Args:\n",
    "        t (list): Recibe una lista de números sin repetición para ser dividida\n",
    "\n",
    "    Returns:\n",
    "        pivot(int) : El número que usa como pivote (t[0]) \n",
    "        l_left and l_right(lists): Las dos listas ya divididas\n",
    "    \"\"\"\n",
    "    pivot= t[0]\n",
    "    l_left = []\n",
    "    l_right = []\n",
    "    \n",
    "    for element in t[1:]:\n",
    "        if element < pivot:  #no puede haber elementos repetidos\n",
    "            l_left.append(element)\n",
    "        else:\n",
    "            l_right.append(element)\n",
    "            \n",
    "    return l_left,pivot,l_right\n",
    "    \n"
   ]
  },
  {
   "cell_type": "code",
   "execution_count": 12,
   "metadata": {},
   "outputs": [
    {
     "name": "stdout",
     "output_type": "stream",
     "text": [
      "[0, 1, 2, 3, 4, 5]\n"
     ]
    }
   ],
   "source": [
    "# II-A.2: QuickSort en python sobre la lista t\n",
    "def qs(t: list)-> list:\n",
    "    \"\"\"con recursión, vamos llamando numerosas veces a esya función hasta tener listas con un solo elemento \n",
    "\n",
    "    Args:\n",
    "        t (list):Lista de números sin repetición\n",
    "\n",
    "    Returns:\n",
    "        list: lista de numeros ordenada\n",
    "    \"\"\"\n",
    "\n",
    "    if t == []:\n",
    "        return t\n",
    "    else:\n",
    "        t_left, pivot, t_right = split(t)\n",
    "        \n",
    "        if len(t_left) > 1:\n",
    "            \n",
    "            t_left = qs(t_left)\n",
    "        \n",
    "        if len(t_right) > 1:\n",
    "            \n",
    "            t_right = qs(t_right)\n",
    "        \n",
    "        \n",
    "        return t_left + [pivot] + t_right\n",
    "    \n",
    "\n",
    "\n",
    "print(qs([2,1,5,4,3,0]))\n",
    "\n",
    "        \n"
   ]
  },
  {
   "cell_type": "code",
   "execution_count": 16,
   "metadata": {},
   "outputs": [
    {
     "name": "stdout",
     "output_type": "stream",
     "text": [
      "[2 5 9 5 3 4]\n"
     ]
    }
   ],
   "source": [
    "# II-B: QuickSort sobre arrays de NumPy\n",
    "# II-B.1: Split para array NumPy\n",
    "import numpy as np\n",
    "def split_ip(t: np.ndarray, f: int, l: int):\n",
    "    if f>l:\n",
    "        raise TypeError(\"F no puede ser mayor que L\")\n",
    "    else:\n",
    "        pivot = t[f]\n",
    "        for i in range (f+1,l):\n",
    "            if t[i]<pivot:\n",
    "                pivot,t[i] = t[i],pivot\n",
    "                \n",
    "        return(t)\n",
    "    \n",
    "    \n",
    "    \n",
    "a = np.array([2,5,9,1,3,4])\n",
    "print (split_ip(a,1,4))"
   ]
  },
  {
   "cell_type": "code",
   "execution_count": null,
   "metadata": {},
   "outputs": [],
   "source": [
    "def qs_ip(t: np.ndarray, f: int, l: int):\n",
    "    \n",
    "    if t == []:\n",
    "        return t\n",
    "    else:\n",
    "        t_left, pivot, t_right = split(t[t:l])"
   ]
  }
 ],
 "metadata": {
  "kernelspec": {
   "display_name": "Python 3",
   "language": "python",
   "name": "python3"
  },
  "language_info": {
   "codemirror_mode": {
    "name": "ipython",
    "version": 3
   },
   "file_extension": ".py",
   "mimetype": "text/x-python",
   "name": "python",
   "nbconvert_exporter": "python",
   "pygments_lexer": "ipython3",
   "version": "3.10.10"
  },
  "orig_nbformat": 4
 },
 "nbformat": 4,
 "nbformat_minor": 2
}
