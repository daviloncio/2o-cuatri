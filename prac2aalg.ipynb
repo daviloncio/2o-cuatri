{
 "cells": [
  {
   "cell_type": "code",
   "execution_count": 34,
   "metadata": {},
   "outputs": [],
   "source": [
    "# II-A: QuickSort sobre listas\n",
    "# II-A.1: Split básico de listas\n",
    "\n",
    "def split(t: list)-> list:\n",
    "    \"\"\" \n",
    "    Recibe una lista de números y la divide en dos listas. Los elementos en l_left son menores que el pivote y los elementos en l_right mayores.\n",
    "\n",
    "    Args:\n",
    "        t (list): Recibe una lista de números sin repetición para ser dividida\n",
    "\n",
    "    Returns:\n",
    "        pivot(int) : El número que usa como pivote (t[0]) \n",
    "        l_left and l_right(lists): Las dos listas ya divididas\n",
    "    \"\"\"\n",
    "    pivot= t[0]\n",
    "    l_left = []\n",
    "    l_right = []\n",
    "    \n",
    "    for element in t[1:]:\n",
    "        if element < pivot:  #no puede haber elementos repetidos\n",
    "            l_left.append(element)\n",
    "        else:\n",
    "            l_right.append(element)\n",
    "            \n",
    "    return l_left,pivot,l_right\n",
    "    \n"
   ]
  },
  {
   "cell_type": "code",
   "execution_count": null,
   "metadata": {},
   "outputs": [],
   "source": []
  },
  {
   "cell_type": "code",
   "execution_count": null,
   "metadata": {},
   "outputs": [],
   "source": [
    "import networkx as nx\n",
    "DG = nx.DiGraph()\n",
    "DG.add_weighted_edges_from([(1, 2, 0.5), (3, 1, 0.75)])\n",
    "\n",
    "for letra in ['A','B','C','D','E','F','G','H','I']:\n",
    "    DG.add_node(letra)\n",
    "\n",
    "# add edges\n",
    "DG.add_weighted_edge_from('A', 'B', 1)\n",
    "DG.add_weighted_edge_from('B', 'C', 1)\n",
    "DG.add_weighted_edge_from('C', 'F', 1)\n",
    "DG.add_weighted_edge_from('F', 'H', 1)\n",
    "DG.add_weighted_edge_from('H', 'I', 1)\n",
    "DG.add_weighted_edge_from('E', 'D', 1)\n",
    "DG.add_weighted_edge_from('E', 'A', 1)\n",
    "DG.add_weighted_edge_from('D', 'B', 1)\n",
    "DG.add_weighted_edge_from('B', 'E', 1)\n",
    "DG.add_weighted_edge_from('G', 'E', 1)\n",
    "DG.add_weighted_edge_from('D', 'G', 1)\n",
    "DG.add_weighted_edge_from('I', 'F', 1)"
   ]
  },
  {
   "cell_type": "code",
   "execution_count": null,
   "metadata": {},
   "outputs": [],
   "source": []
  },
  {
   "cell_type": "code",
   "execution_count": 35,
   "metadata": {},
   "outputs": [
    {
     "name": "stdout",
     "output_type": "stream",
     "text": [
      "[0, 1, 2, 3, 4, 5]\n"
     ]
    }
   ],
   "source": [
    "# II-A.2: QuickSort en python sobre la lista t\n",
    "\n",
    "def qs(t: list)-> list:\n",
    "    \"\"\"con recursión, vamos llamando numerosas veces a esya función hasta tener listas con un solo elemento \n",
    "\n",
    "    Args:\n",
    "        t (list):Lista de números sin repetición\n",
    "\n",
    "    Returns:\n",
    "        list: lista de numeros ordenada\n",
    "    \"\"\"\n",
    "\n",
    "\n",
    "    t_left, pivot, t_right = split(t)\n",
    "    \n",
    "    if len(t_left) > 1:\n",
    "        \n",
    "        t_left = qs(t_left)\n",
    "    \n",
    "    if len(t_right) > 1:\n",
    "        \n",
    "        t_right = qs(t_right)\n",
    "    \n",
    "    \n",
    "    return t_left + [pivot] + t_right\n",
    "    \n",
    "\n",
    "\n",
    "print(qs([2,1,5,4,3,0]))\n",
    "\n",
    "\n",
    "        \n"
   ]
  },
  {
   "attachments": {},
   "cell_type": "markdown",
   "metadata": {},
   "source": [
    "II-B. QuickSort in place sobre arrays de NumPy\n",
    "Vamos a mejorar nuestra version anterior de QuickSort para que trabaje con arrays de NumPy de manera in place. ´\n",
    "1. Escribir una funcion´\n",
    "split_ip(t: np.ndarray, f: int, l: int)\n",
    "que distribuye los elementos de t entre los ´ındices f incluido y l excluido, a la izquierda y derecha del elemento t[f]\n",
    "y devuelve el indice ocupado finalmente por el elemento que estaba incialmente en f.\n",
    "La funcion debe ser ´ in place, esto es, usar solo el array t y ningun otro array o lista auxiliar. Naturalmente, tampoco ´\n",
    "debe devolver nada.\n"
   ]
  },
  {
   "cell_type": "code",
   "execution_count": 43,
   "metadata": {},
   "outputs": [],
   "source": [
    "# II-B: QuickSort sobre arrays de NumPy\n",
    "# II-B.1: Split para array NumPy\n",
    "\n",
    "def split_ip(t: np.ndarray,f,l) -> int:\n",
    "    piv = t[f]\n",
    "    m = f\n",
    "    for i in range(f+1, l):\n",
    "        if t[i] < piv:\n",
    "            m += 1\n",
    "            t[i], t[m] = t[m], t[i]\n",
    "    t[f], t[m] = t[m], t[f]\n",
    "    return m\n"
   ]
  },
  {
   "attachments": {},
   "cell_type": "markdown",
   "metadata": {},
   "source": [
    "2. Escribe una funcion´\n",
    "qs_ip(t: np.ndarray, f: int, l: int):\n",
    "que implementa QuickSort para ordenar un array t entre los ´ındices f incluido y l excluido usando la funcion´ split_ip\n",
    "anterior.\n",
    "De nuevo, la funcion debe ser in place, esto es, usar solo el array ´ t y ningun otro array o lista auxiliar"
   ]
  },
  {
   "cell_type": "code",
   "execution_count": null,
   "metadata": {},
   "outputs": [],
   "source": [
    "import numpy as np\n",
    "\n",
    "\n",
    "def qs_ip(t: np.ndarray, f: int, l: int):\n",
    " \n",
    "    if t == []:\n",
    "        return t\n",
    "    if f < l:\n",
    "        p = split_ip(t,f,l)\n",
    "        qs_ip(t,f,p)\n",
    "        qs_ip(t, p + 1,l)\n",
    "    if f >= l:\n",
    "        return \n",
    "\n",
    "\n",
    "\n",
    "    \n",
    "    \n",
    "\n",
    "a =[4,8,3,-5,2,1,9,11]\n",
    "qs_ip(a,3,6)\n",
    "print(a)\n",
    "\n"
   ]
  },
  {
   "attachments": {},
   "cell_type": "markdown",
   "metadata": {},
   "source": [
    "II-C. Midiendo tiempos de ejecucion en QuickSort\n",
    "\n",
    "1. Escribe una funcion´\n",
    "time_quicksort(n_permutations: int, size_ini: int, size_fin: int, step: int)-> List\n",
    "que devuelva una lista con los tiempos medios empleados por QuickSort en cada paso de las ejecuciones sobre\n",
    "n_permutations permutaciones de tamanos entre ˜ size_ini y size_fin, que se se van incrementando en tamanos ˜ step.\n",
    "Esto es, para tamanos de permutaci ˜ on entre ´ size_ini y size_fin con incrementos step\n",
    "\n",
    "a) Generar n_permutations permutaciones aleatorias mediante el metodo Numpy adecuado.\n",
    "\n",
    "b) Ordenarlas mediante QuickSort midiendo el tiempo de ejecucion con el m ´ etodo ´ time.\n",
    "\n",
    "c) Calcular la media de los tiempos de ejecucion y a ´ nadirlos a la lista correspondiente. "
   ]
  },
  {
   "cell_type": "code",
   "execution_count": null,
   "metadata": {},
   "outputs": [
    {
     "data": {
      "text/plain": [
       "[<matplotlib.lines.Line2D at 0x2aa113892d0>]"
      ]
     },
     "execution_count": 33,
     "metadata": {},
     "output_type": "execute_result"
    },
    {
     "data": {
      "image/png": "[encoded data removed]",
      "text/plain": [
       "<Figure size 640x480 with 1 Axes>"
      ]
     },
     "metadata": {},
     "output_type": "display_data"
    }
   ],
   "source": [
    "import time\n",
    "def ave_time_quick_sort(n_permutations: int,size_ini:int,size_fin:int,step:int) -> np.array:\n",
    "    \n",
    "    list_tiempos_medias = []\n",
    "    tamaño_array = []\n",
    "    \n",
    "    for e in range(size_ini,size_fin,step):\n",
    "        \n",
    "        tamaño_array.append(e)\n",
    "        hacer_media_tiempos = []\n",
    "        \n",
    "        for i in range(n_permutations):\n",
    "            \n",
    "            creamos_permutación = np.random.permutation(e)  \n",
    "            inicio=time.time()\n",
    "            qs(creamos_permutación)\n",
    "            fin = time.time()\n",
    "            tiempo_ejecucion = fin - inicio\n",
    "            hacer_media_tiempos.append(tiempo_ejecucion)\n",
    "        \n",
    "        result = sum(hacer_media_tiempos)/n_permutations\n",
    "        list_tiempos_medias.append(result)\n",
    "        \n",
    "    result = dict(zip(tamaño_array,list_tiempos_medias) )\n",
    "       \n",
    "    return result\n",
    "\n",
    "ave_time_quick_sort(10,60,100,1)\n",
    "    #codigo para hacer la grafica y comprobar que se ajusta a un coste N log N.\n",
    "from matplotlib import pyplot as plt    \n",
    "\n",
    "\n",
    "\n",
    "\n",
    "comprobar = ave_time_quick_sort(10,30,1500,3)\n",
    "\n",
    "lista_tamaños = []\n",
    "lista_tiempos = []\n",
    "for key in comprobar:\n",
    "    valor = comprobar[key]\n",
    "    lista_tiempos.append(valor)\n",
    "    lista_tamaños.append(key)\n",
    "\n",
    "\n",
    "plt.scatter(lista_tamaños,lista_tiempos)\n",
    "\n",
    "mymodel = np.poly1d(np.polyfit(lista_tamaños,lista_tiempos,1))\n",
    "myline = np.linspace(0, 1500) \n",
    "plt.plot(myline,mymodel(myline))\n",
    "\n",
    "\n",
    "\n",
    "    \n",
    "\n",
    "\n",
    "\n",
    "    \n",
    "\n",
    "    \n"
   ]
  },
  {
   "cell_type": "code",
   "execution_count": 42,
   "metadata": {},
   "outputs": [
    {
     "data": {
      "image/png": "[encoded data removed]",
      "text/plain": [
       "<Figure size 640x480 with 1 Axes>"
      ]
     },
     "metadata": {},
     "output_type": "display_data"
    }
   ],
   "source": [
    "import numpy as np\n",
    "import time\n",
    "from matplotlib import pyplot as plt\n",
    "def max_heapify(h: np.ndarray, i: int):\n",
    "    izquierda = 2*i + 1\n",
    "    derecha = 2*i + 2\n",
    "    mayor = i\n",
    "    if derecha >= len(h) or mayor >= len(h) or izquierda >= len(h):\n",
    "        return\n",
    "    if izquierda < len(h)-1 and h[izquierda] > h[mayor]:\n",
    "        mayor = izquierda\n",
    "    if derecha < len(h)-1 and h[derecha] > h[mayor]:\n",
    "        mayor = derecha\n",
    "\n",
    "    if mayor != i:\n",
    "        h[i], h[mayor] = h[mayor], h[i]\n",
    "        max_heapify(h, mayor)\n",
    "\n",
    "\n",
    "def insert_maxheap(h: np.ndarray, k: int) -> np.ndarray:\n",
    "\n",
    "    n = len(h)\n",
    "    h = np.append(h, k)\n",
    "    i = n\n",
    "    \n",
    "    while i > 0 and h[i] > h[(i-1)//2]:\n",
    "        h[i], h[(i-1)//2] = h[(i-1)//2], h[i]\n",
    "        i = (i-1)//2\n",
    "    \n",
    "    return h\n",
    "\n",
    "\n",
    "def create_maxheap(h: np.ndarray):\n",
    "\n",
    "    for i in range((len(h)//2)-1, -1, -1):\n",
    "        max_heapify(h, i)\n",
    "h = [22,3,4,5,6,7,7,8,8,8,9,9,0]\n",
    "\n",
    "j = np.ndarray[h]\n",
    "\n",
    "def sort_maxheap(h: np.ndarray):\n",
    "    for i in range(len(h)-1, 1, -1):\n",
    "        h[i],h[0]= h[0],h[i]\n",
    "        max_heapify(h[ :i],0)\n",
    "        \n",
    "def hs(h: np.ndarray):\n",
    "    create_maxheap(h)\n",
    "    sort_maxheap(h)\n",
    "\n",
    "def time_heapsort(n_perms: int, size_ini: int, size_fin: int, step: int)-> list:\n",
    "    list_tiempos_medias = []\n",
    "    lista_y = []\n",
    "    tamaño_array = []\n",
    "    for e in range(size_ini,size_fin,step):\n",
    "        tamaño_array.append(e)\n",
    "        hacer_media_tiempos = []\n",
    "        for i in range(n_perms):\n",
    "            \n",
    "            creamos_permutación = np.random.permutation(tamaño_array)  \n",
    "            inicio=time.time()\n",
    "            hs(creamos_permutación)\n",
    "            fin = time.time()\n",
    "            tiempo_ejecucion = fin - inicio\n",
    "            hacer_media_tiempos.append(tiempo_ejecucion)\n",
    "        result = sum(hacer_media_tiempos)/n_perms\n",
    "        lista_y.append(e)\n",
    "        list_tiempos_medias.append(result)\n",
    "    plt.plot(lista_y,list_tiempos_medias)\n",
    "    return list_tiempos_medias\n",
    "a = time_heapsort(100,1,100,1)"
   ]
  },
  {
   "attachments": {},
   "cell_type": "markdown",
   "metadata": {},
   "source": [
    "II-D. Cuestiones\n",
    "1. Sabemos que en el caso medio el coste de QuickSort es O(N log N). Utilizando las funciones anteriores, estimar\n",
    "experimentalmente ese coste medio para diversos tamanos de tabla y comprobar graficamente que se ajustan al coste\n",
    "medio esperado.\n",
    "2. Si aplicamos nuestra funcion´ split a la tabla ordenada [1, 2, ..., N] tomando como pivote el primer elemento, ¿que´\n",
    "subtablas obtendremos?\n",
    "3. Argumentar a partir de lo anterior que el coste en el caso peor de QuickSort es al menos N(N−1)/2\n",
    ".\n"
   ]
  },
  {
   "attachments": {},
   "cell_type": "markdown",
   "metadata": {},
   "source": [
    "III-A. Max heaps sobre arrays de Numpy\n",
    "\n",
    "Vamos a implementar sobre arrays de Numpy diversas funciones de trabajo con max heaps. Para ello supondremos que un\n",
    "max heap vac´ıo se representa como None.\n",
    "\n",
    "1. Escribir una funcion´\n",
    "max_heapify(h: np.ndarray, i: int)\n",
    "que reciba un array h de Numpy y aplique la operacion de heapify al elemento situado en la posici ´ on´ i de manera in\n",
    "place.\n"
   ]
  },
  {
   "cell_type": "code",
   "execution_count": null,
   "metadata": {},
   "outputs": [],
   "source": [
    "import numpy as np\n",
    "import time \n",
    "\n",
    "def max_heapify(h: np.ndarray, i: int):\n",
    "    izquierda = 2*i + 1\n",
    "    derecha = 2*i + 2\n",
    "    mayor = i\n",
    "    if derecha >= len(h) or mayor >= len(h) or izquierda >= len(h):\n",
    "        return\n",
    "    if izquierda < len(h)-1 and h[izquierda] > h[mayor]:\n",
    "        mayor = izquierda\n",
    "    if derecha < len(h)-1 and h[derecha] > h[mayor]:\n",
    "        mayor = derecha\n",
    "\n",
    "    if mayor != i:\n",
    "        h[i], h[mayor] = h[mayor], h[i]\n",
    "        max_heapify(h, mayor)\n",
    "\n",
    "\n",
    "\n",
    "        \n",
    "\n",
    "\n",
    "\n",
    "        \n",
    "\n",
    "j = [9,1,2,8,3,7,4,6,5]\n",
    "\n",
    "\n"
   ]
  },
  {
   "attachments": {},
   "cell_type": "markdown",
   "metadata": {},
   "source": [
    "2. En ocasiones queremos insertar un nuevo elemento en un max heap existente de manera que se tenga un nuevo max\n",
    "heap. Escribir una funcion\n",
    "\n",
    "insert_maxheap(h: np.ndarray, k: int)-> np.ndarray\n",
    "\n",
    "que inserte el entero k al final del array h que contiene el max heap y, a continuacion, transforme el array ampliado en ´\n",
    "un nuevo max heap y lo devuelva"
   ]
  },
  {
   "cell_type": "code",
   "execution_count": null,
   "metadata": {},
   "outputs": [],
   "source": [
    "\n",
    "def insert_maxheap(h: np.ndarray, k: int) -> np.ndarray:\n",
    "\n",
    "    n = len(h)\n",
    "    h = np.append(h, k)\n",
    "    i = n\n",
    "    \n",
    "    while i > 0 and h[i] > h[(i-1)//2]:\n",
    "        h[i], h[(i-1)//2] = h[(i-1)//2], h[i]\n",
    "        i = (i-1)//2\n",
    "    \n",
    "    return h"
   ]
  },
  {
   "attachments": {},
   "cell_type": "markdown",
   "metadata": {},
   "source": [
    "3. En otras ocasiones lo que se desea es transformar un array en un max heap de manera in-place. Escribir una funcion\n",
    "\n",
    "create_maxheap(h: np.ndarray)\n",
    "\n",
    "que cree un max heap sobre el array de Numpy pasado como argumento. Se recuerda que esta creacion debe hacerse ´\n",
    "in-place, esto es, sobre el propio array sin usar ningun otro auxiliar (y sin devolver nada). "
   ]
  },
  {
   "cell_type": "code",
   "execution_count": null,
   "metadata": {},
   "outputs": [],
   "source": [
    "\n",
    "def create_maxheap(h: np.ndarray):\n",
    "\n",
    "    for i in range((len(h)//2)-1, -1, -1):\n",
    "        max_heapify(h, i)"
   ]
  },
  {
   "attachments": {},
   "cell_type": "markdown",
   "metadata": {},
   "source": [
    "III-B. HeapSort\n",
    "Como sabemos, el algoritmo HeapSort consiste en construir primero un max heap mediante, por ejemplo, la funcion´create_maxheap anterior, para a continuacion ordenarlo. ´\n",
    "1. Escribir una funcion sort_maxheap(h: np.ndarray) que recibe un array Numpy con un maxheap y lo ordena, realizando todas las operaciones de manera in place.\n"
   ]
  },
  {
   "cell_type": "code",
   "execution_count": null,
   "metadata": {},
   "outputs": [],
   "source": [
    "def sort_maxheap(h: np.ndarray):\n",
    "    for i in range(len(h)-1, 1, -1):\n",
    "        h[i],h[0]= h[0],h[i]\n",
    "        max_heapify(h[ :i],0)"
   ]
  },
  {
   "attachments": {},
   "cell_type": "markdown",
   "metadata": {},
   "source": [
    "2. Combinar las funciones anteriores en una funcion´hs(h: np.ndarray)\n",
    "que recibe un array Numpy y lo ordena, realizando todas las operaciones de manera in place."
   ]
  },
  {
   "cell_type": "code",
   "execution_count": null,
   "metadata": {},
   "outputs": [],
   "source": [
    "def hs(h: np.ndarray):\n",
    "    create_maxheap(h)\n",
    "    sort_maxheap(h)"
   ]
  },
  {
   "attachments": {},
   "cell_type": "markdown",
   "metadata": {},
   "source": [
    "3. Queremos escribir una funcion para medir tiempos de ejecuci ´ on de HeapSort ´\n",
    "time_heapsort(n_perms: int, size_ini: int, size_fin: int, step: int)-> List\n",
    "que devuelva una lista con los tiempos medios empleados por HeapSort al ejecutarse sobre n_permutations permutaciones\n",
    "de tamanos entre ˜ size_ini y size_fin, que se se van incrementando en tamanos ˜ step"
   ]
  },
  {
   "cell_type": "code",
   "execution_count": 41,
   "metadata": {},
   "outputs": [
    {
     "name": "stdout",
     "output_type": "stream",
     "text": [
      "[0.0, 0.0, 9.968280792236329e-06, 1.9958019256591795e-05, 3.130435943603516e-05, 0.0, 0.0, 3.045797348022461e-05, 3.570079803466797e-05, 2.9883384704589845e-05, 4.8613548278808595e-05, 3.0698776245117185e-05, 6.03485107421875e-05, 0.0002514815330505371, 0.00010009765625, 6.976604461669922e-05, 8.489370346069336e-05, 5.974531173706055e-05, 0.00012332439422607422, 8.372068405151367e-05, 6.97469711303711e-05, 5.9862136840820315e-05, 7.973670959472656e-05, 0.00010963201522827148, 0.00010960340499877929, 9.948015213012695e-05, 9.594202041625977e-05, 0.00010918378829956054, 0.00011002302169799805, 0.00012223243713378905, 0.00014423847198486329, 0.00012956619262695314, 0.00014961719512939452, 0.0001295328140258789, 0.00012957096099853516, 0.00015946388244628907, 0.0001593661308288574, 0.00013942480087280273, 0.000159909725189209, 0.00013959884643554687, 0.00019109725952148437, 0.00019937515258789063, 0.00020432233810424805, 0.00019919633865356446, 0.0001797318458557129, 0.0002185845375061035, 0.0001999330520629883, 0.00019985675811767578, 0.00020967721939086915, 0.0001973891258239746, 0.00022925615310668947, 0.0002805852890014648, 0.00025867700576782227, 0.0002481794357299805, 0.0002689313888549805, 0.00023939847946166993, 0.0002888894081115723, 0.0002795863151550293, 0.00028604745864868164, 0.0002894139289855957, 0.00030465364456176757, 0.0002789902687072754, 0.0003529500961303711, 0.000518653392791748, 0.000317227840423584, 0.00030874013900756837, 0.0003439831733703613, 0.0003760361671447754, 0.00035269975662231444, 0.0003397679328918457, 0.0003689789772033691, 0.0003588271141052246, 0.0003539896011352539, 0.00038855314254760743, 0.0003686690330505371, 0.0003884458541870117, 0.0004077887535095215, 0.0004223847389221191, 0.0003957200050354004, 0.00044895410537719725, 0.00043746709823608396, 0.0005076742172241211, 0.00040048837661743164, 0.0004515719413757324, 0.00044639348983764647, 0.0004548096656799316, 0.0004808187484741211, 0.0005706405639648438, 0.0006173372268676758, 0.000501570701599121, 0.0005067658424377442, 0.0004903817176818848, 0.0005044984817504883, 0.0005489110946655274, 0.000488889217376709, 0.0005326128005981445, 0.0005381059646606445, 0.0005086374282836914, 0.000512242317199707]\n",
      "[44 17 15  0 23 43  9 46  5 14 38 12 30 48 40 20 35 39 49 26 47 29 10  8\n",
      " 31  6 27  1 25 41 21 45 19 11 18 16 28 33 13 37  7 36 24 34 42  4 22 32\n",
      "  2  3]\n",
      "[49 47 48 46 44 43 41 45 39 37 42 32 30 25 40 20 35 28 33 26 36 38 22 12\n",
      " 31  6 27  1  9 15 21 17 19 11 18 16  0  5 13 23  7 14 24 34 29  4 10  8\n",
      "  2  3]\n"
     ]
    },
    {
     "data": {
      "image/png": "[encoded data removed]",
      "text/plain": [
       "<Figure size 640x480 with 1 Axes>"
      ]
     },
     "metadata": {},
     "output_type": "display_data"
    }
   ],
   "source": [
    "def time_heapsort(n_perms: int, size_ini: int, size_fin: int, step: int)-> list:\n",
    "    list_tiempos_medias = []\n",
    "    tamaño_array = []\n",
    "    for e in range(size_ini,size_fin,step):\n",
    "        tamaño_array.append(e)\n",
    "        hacer_media_tiempos = []\n",
    "        for i in range(n_perms):\n",
    "            creamos_permutación = np.random.permutation(tamaño_array)  \n",
    "            inicio=time.time()\n",
    "            hs(creamos_permutación)\n",
    "            fin = time.time()\n",
    "            tiempo_ejecucion = fin - inicio\n",
    "            hacer_media_tiempos.append(tiempo_ejecucion)\n",
    "        result = sum(hacer_media_tiempos)/n_perms\n",
    "        list_tiempos_medias.append(result)\n",
    "    return list_tiempos_medias\n",
    "\n",
    "a = time_heapsort(100,1,100,1)\n",
    "print(a)  \n",
    "\n",
    "\n",
    "import numpy as np\n",
    "permutacion = np.random.permutation(50)\n",
    "lista = []\n",
    "for i in range(50):\n",
    "    lista.append(i)\n",
    "    \n",
    "print(permutacion)\n",
    "create_maxheap(permutacion)\n",
    "print(permutacion)\n",
    "plt.plot(lista,permutacion)\n",
    "plt.show()"
   ]
  },
  {
   "cell_type": "code",
   "execution_count": 12,
   "metadata": {},
   "outputs": [
    {
     "name": "stdout",
     "output_type": "stream",
     "text": [
      "False\n",
      "3\n",
      "DiGraph with 3 nodes and 2 edges\n",
      "<generator object strongly_connected_components at 0x000002D732314510>\n",
      "{'F', 'I', 'H'}\n",
      "{'C'}\n",
      "{'A', 'B', 'G', 'E', 'D'}\n"
     ]
    }
   ],
   "source": [
    "import networkx  as nx\n",
    "\n",
    "DG = nx.DiGraph()\n",
    "\n",
    "for letra in ['A','B','C','D','E','F','G','H','I']:\n",
    "    DG.add_node(letra)\n",
    "\n",
    "# add edges\n",
    "DG.add_weighted_edges_from([('A', 'B', 1)])\n",
    "DG.add_weighted_edges_from([('B', 'C', 1)])\n",
    "DG.add_weighted_edges_from([('C', 'F', 1)])\n",
    "DG.add_weighted_edges_from([('F', 'H', 1)])\n",
    "DG.add_weighted_edges_from([('H', 'I', 1)])\n",
    "DG.add_weighted_edges_from([('E', 'D', 1)])\n",
    "DG.add_weighted_edges_from([('E', 'A', 1)])\n",
    "DG.add_weighted_edges_from([('D', 'B', 1)])\n",
    "DG.add_weighted_edges_from([('B', 'E', 1)])\n",
    "DG.add_weighted_edges_from([('G', 'E', 1)])\n",
    "DG.add_weighted_edges_from([('D', 'G', 1)])\n",
    "DG.add_weighted_edges_from([('I', 'F', 1)])\n",
    "\n",
    "print(nx.is_strongly_connected(DG))\n",
    "print(nx.number_strongly_connected_components(DG))\n",
    "print(nx.condensation(DG))\n",
    "print(nx.strongly_connected_components(DG))\n",
    "for i in nx.strongly_connected_components(DG):\n",
    "    print(i)\n"
   ]
  }
 ],
 "metadata": {
  "kernelspec": {
   "display_name": "Python 3",
   "language": "python",
   "name": "python3"
  },
  "language_info": {
   "codemirror_mode": {
    "name": "ipython",
    "version": 3
   },
   "file_extension": ".py",
   "mimetype": "text/x-python",
   "name": "python",
   "nbconvert_exporter": "python",
   "pygments_lexer": "ipython3",
   "version": "3.10.11"
  },
  "orig_nbformat": 4,
  "vscode": {
   "interpreter": {
    "hash": "2aafc0b35218c569f6f820bf5fc8b8708abacfd3d8ab40aaf90f6fd73f5e18cf"
   }
  }
 },
 "nbformat": 4,
 "nbformat_minor": 2
}
